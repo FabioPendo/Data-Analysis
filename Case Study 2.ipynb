{
 "cells": [
  {
   "cell_type": "markdown",
   "id": "2cc655b6",
   "metadata": {},
   "source": [
    "# Assessing\n",
    "Use the space below to explore `all_alpha_08.csv` and `all_alpha_18.csv` to answer the quiz questions below."
   ]
  },
  {
   "cell_type": "code",
   "execution_count": 1,
   "id": "10d2c7cc",
   "metadata": {},
   "outputs": [],
   "source": [
    "import pandas as pd\n",
    "import numpy as np\n",
    "import seaborn as sns\n",
    "import matplotlib.pyplot as plt\n",
    "%matplotlib inline\n",
    "\n",
    "sns.set_style('darkgrid')"
   ]
  },
  {
   "cell_type": "code",
   "execution_count": 2,
   "id": "d017f267",
   "metadata": {},
   "outputs": [
    {
     "data": {
      "text/html": [
       "<div>\n",
       "<style scoped>\n",
       "    .dataframe tbody tr th:only-of-type {\n",
       "        vertical-align: middle;\n",
       "    }\n",
       "\n",
       "    .dataframe tbody tr th {\n",
       "        vertical-align: top;\n",
       "    }\n",
       "\n",
       "    .dataframe thead th {\n",
       "        text-align: right;\n",
       "    }\n",
       "</style>\n",
       "<table border=\"1\" class=\"dataframe\">\n",
       "  <thead>\n",
       "    <tr style=\"text-align: right;\">\n",
       "      <th></th>\n",
       "      <th>Model</th>\n",
       "      <th>Displ</th>\n",
       "      <th>Cyl</th>\n",
       "      <th>Trans</th>\n",
       "      <th>Drive</th>\n",
       "      <th>Fuel</th>\n",
       "      <th>Sales Area</th>\n",
       "      <th>Stnd</th>\n",
       "      <th>Underhood ID</th>\n",
       "      <th>Veh Class</th>\n",
       "      <th>Air Pollution Score</th>\n",
       "      <th>FE Calc Appr</th>\n",
       "      <th>City MPG</th>\n",
       "      <th>Hwy MPG</th>\n",
       "      <th>Cmb MPG</th>\n",
       "      <th>Unadj Cmb MPG</th>\n",
       "      <th>Greenhouse Gas Score</th>\n",
       "      <th>SmartWay</th>\n",
       "    </tr>\n",
       "  </thead>\n",
       "  <tbody>\n",
       "    <tr>\n",
       "      <th>0</th>\n",
       "      <td>ACURA MDX</td>\n",
       "      <td>3.7</td>\n",
       "      <td>(6 cyl)</td>\n",
       "      <td>Auto-S5</td>\n",
       "      <td>4WD</td>\n",
       "      <td>Gasoline</td>\n",
       "      <td>CA</td>\n",
       "      <td>U2</td>\n",
       "      <td>8HNXT03.7PKR</td>\n",
       "      <td>SUV</td>\n",
       "      <td>7</td>\n",
       "      <td>Drv</td>\n",
       "      <td>15</td>\n",
       "      <td>20</td>\n",
       "      <td>17</td>\n",
       "      <td>22.0527</td>\n",
       "      <td>4</td>\n",
       "      <td>no</td>\n",
       "    </tr>\n",
       "    <tr>\n",
       "      <th>1</th>\n",
       "      <td>ACURA MDX</td>\n",
       "      <td>3.7</td>\n",
       "      <td>(6 cyl)</td>\n",
       "      <td>Auto-S5</td>\n",
       "      <td>4WD</td>\n",
       "      <td>Gasoline</td>\n",
       "      <td>FA</td>\n",
       "      <td>B5</td>\n",
       "      <td>8HNXT03.7PKR</td>\n",
       "      <td>SUV</td>\n",
       "      <td>6</td>\n",
       "      <td>Drv</td>\n",
       "      <td>15</td>\n",
       "      <td>20</td>\n",
       "      <td>17</td>\n",
       "      <td>22.0527</td>\n",
       "      <td>4</td>\n",
       "      <td>no</td>\n",
       "    </tr>\n",
       "    <tr>\n",
       "      <th>2</th>\n",
       "      <td>ACURA RDX</td>\n",
       "      <td>2.3</td>\n",
       "      <td>(4 cyl)</td>\n",
       "      <td>Auto-S5</td>\n",
       "      <td>4WD</td>\n",
       "      <td>Gasoline</td>\n",
       "      <td>CA</td>\n",
       "      <td>U2</td>\n",
       "      <td>8HNXT02.3DKR</td>\n",
       "      <td>SUV</td>\n",
       "      <td>7</td>\n",
       "      <td>Drv</td>\n",
       "      <td>17</td>\n",
       "      <td>22</td>\n",
       "      <td>19</td>\n",
       "      <td>24.1745</td>\n",
       "      <td>5</td>\n",
       "      <td>no</td>\n",
       "    </tr>\n",
       "    <tr>\n",
       "      <th>3</th>\n",
       "      <td>ACURA RDX</td>\n",
       "      <td>2.3</td>\n",
       "      <td>(4 cyl)</td>\n",
       "      <td>Auto-S5</td>\n",
       "      <td>4WD</td>\n",
       "      <td>Gasoline</td>\n",
       "      <td>FA</td>\n",
       "      <td>B5</td>\n",
       "      <td>8HNXT02.3DKR</td>\n",
       "      <td>SUV</td>\n",
       "      <td>6</td>\n",
       "      <td>Drv</td>\n",
       "      <td>17</td>\n",
       "      <td>22</td>\n",
       "      <td>19</td>\n",
       "      <td>24.1745</td>\n",
       "      <td>5</td>\n",
       "      <td>no</td>\n",
       "    </tr>\n",
       "    <tr>\n",
       "      <th>4</th>\n",
       "      <td>ACURA RL</td>\n",
       "      <td>3.5</td>\n",
       "      <td>(6 cyl)</td>\n",
       "      <td>Auto-S5</td>\n",
       "      <td>4WD</td>\n",
       "      <td>Gasoline</td>\n",
       "      <td>CA</td>\n",
       "      <td>U2</td>\n",
       "      <td>8HNXV03.5HKR</td>\n",
       "      <td>midsize car</td>\n",
       "      <td>7</td>\n",
       "      <td>Drv</td>\n",
       "      <td>16</td>\n",
       "      <td>24</td>\n",
       "      <td>19</td>\n",
       "      <td>24.5629</td>\n",
       "      <td>5</td>\n",
       "      <td>no</td>\n",
       "    </tr>\n",
       "  </tbody>\n",
       "</table>\n",
       "</div>"
      ],
      "text/plain": [
       "       Model  Displ      Cyl    Trans Drive      Fuel Sales Area Stnd  \\\n",
       "0  ACURA MDX    3.7  (6 cyl)  Auto-S5   4WD  Gasoline         CA   U2   \n",
       "1  ACURA MDX    3.7  (6 cyl)  Auto-S5   4WD  Gasoline         FA   B5   \n",
       "2  ACURA RDX    2.3  (4 cyl)  Auto-S5   4WD  Gasoline         CA   U2   \n",
       "3  ACURA RDX    2.3  (4 cyl)  Auto-S5   4WD  Gasoline         FA   B5   \n",
       "4   ACURA RL    3.5  (6 cyl)  Auto-S5   4WD  Gasoline         CA   U2   \n",
       "\n",
       "   Underhood ID    Veh Class Air Pollution Score FE Calc Appr City MPG  \\\n",
       "0  8HNXT03.7PKR          SUV                   7          Drv       15   \n",
       "1  8HNXT03.7PKR          SUV                   6          Drv       15   \n",
       "2  8HNXT02.3DKR          SUV                   7          Drv       17   \n",
       "3  8HNXT02.3DKR          SUV                   6          Drv       17   \n",
       "4  8HNXV03.5HKR  midsize car                   7          Drv       16   \n",
       "\n",
       "  Hwy MPG Cmb MPG  Unadj Cmb MPG Greenhouse Gas Score SmartWay  \n",
       "0      20      17        22.0527                    4       no  \n",
       "1      20      17        22.0527                    4       no  \n",
       "2      22      19        24.1745                    5       no  \n",
       "3      22      19        24.1745                    5       no  \n",
       "4      24      19        24.5629                    5       no  "
      ]
     },
     "execution_count": 2,
     "metadata": {},
     "output_type": "execute_result"
    }
   ],
   "source": [
    "df_08 = pd.read_csv('all_alpha_08.csv')\n",
    "df_08.head()"
   ]
  },
  {
   "cell_type": "code",
   "execution_count": 3,
   "id": "a4111b6f",
   "metadata": {},
   "outputs": [
    {
     "data": {
      "text/html": [
       "<div>\n",
       "<style scoped>\n",
       "    .dataframe tbody tr th:only-of-type {\n",
       "        vertical-align: middle;\n",
       "    }\n",
       "\n",
       "    .dataframe tbody tr th {\n",
       "        vertical-align: top;\n",
       "    }\n",
       "\n",
       "    .dataframe thead th {\n",
       "        text-align: right;\n",
       "    }\n",
       "</style>\n",
       "<table border=\"1\" class=\"dataframe\">\n",
       "  <thead>\n",
       "    <tr style=\"text-align: right;\">\n",
       "      <th></th>\n",
       "      <th>Model</th>\n",
       "      <th>Displ</th>\n",
       "      <th>Cyl</th>\n",
       "      <th>Trans</th>\n",
       "      <th>Drive</th>\n",
       "      <th>Fuel</th>\n",
       "      <th>Cert Region</th>\n",
       "      <th>Stnd</th>\n",
       "      <th>Stnd Description</th>\n",
       "      <th>Underhood ID</th>\n",
       "      <th>Veh Class</th>\n",
       "      <th>Air Pollution Score</th>\n",
       "      <th>City MPG</th>\n",
       "      <th>Hwy MPG</th>\n",
       "      <th>Cmb MPG</th>\n",
       "      <th>Greenhouse Gas Score</th>\n",
       "      <th>SmartWay</th>\n",
       "      <th>Comb CO2</th>\n",
       "    </tr>\n",
       "  </thead>\n",
       "  <tbody>\n",
       "    <tr>\n",
       "      <th>0</th>\n",
       "      <td>ACURA RDX</td>\n",
       "      <td>3.5</td>\n",
       "      <td>6.0</td>\n",
       "      <td>SemiAuto-6</td>\n",
       "      <td>2WD</td>\n",
       "      <td>Gasoline</td>\n",
       "      <td>FA</td>\n",
       "      <td>T3B125</td>\n",
       "      <td>Federal Tier 3 Bin 125</td>\n",
       "      <td>JHNXT03.5GV3</td>\n",
       "      <td>small SUV</td>\n",
       "      <td>3</td>\n",
       "      <td>20</td>\n",
       "      <td>28</td>\n",
       "      <td>23</td>\n",
       "      <td>5</td>\n",
       "      <td>No</td>\n",
       "      <td>386</td>\n",
       "    </tr>\n",
       "    <tr>\n",
       "      <th>1</th>\n",
       "      <td>ACURA RDX</td>\n",
       "      <td>3.5</td>\n",
       "      <td>6.0</td>\n",
       "      <td>SemiAuto-6</td>\n",
       "      <td>2WD</td>\n",
       "      <td>Gasoline</td>\n",
       "      <td>CA</td>\n",
       "      <td>U2</td>\n",
       "      <td>California LEV-II ULEV</td>\n",
       "      <td>JHNXT03.5GV3</td>\n",
       "      <td>small SUV</td>\n",
       "      <td>3</td>\n",
       "      <td>20</td>\n",
       "      <td>28</td>\n",
       "      <td>23</td>\n",
       "      <td>5</td>\n",
       "      <td>No</td>\n",
       "      <td>386</td>\n",
       "    </tr>\n",
       "    <tr>\n",
       "      <th>2</th>\n",
       "      <td>ACURA RDX</td>\n",
       "      <td>3.5</td>\n",
       "      <td>6.0</td>\n",
       "      <td>SemiAuto-6</td>\n",
       "      <td>4WD</td>\n",
       "      <td>Gasoline</td>\n",
       "      <td>FA</td>\n",
       "      <td>T3B125</td>\n",
       "      <td>Federal Tier 3 Bin 125</td>\n",
       "      <td>JHNXT03.5GV3</td>\n",
       "      <td>small SUV</td>\n",
       "      <td>3</td>\n",
       "      <td>19</td>\n",
       "      <td>27</td>\n",
       "      <td>22</td>\n",
       "      <td>4</td>\n",
       "      <td>No</td>\n",
       "      <td>402</td>\n",
       "    </tr>\n",
       "    <tr>\n",
       "      <th>3</th>\n",
       "      <td>ACURA RDX</td>\n",
       "      <td>3.5</td>\n",
       "      <td>6.0</td>\n",
       "      <td>SemiAuto-6</td>\n",
       "      <td>4WD</td>\n",
       "      <td>Gasoline</td>\n",
       "      <td>CA</td>\n",
       "      <td>U2</td>\n",
       "      <td>California LEV-II ULEV</td>\n",
       "      <td>JHNXT03.5GV3</td>\n",
       "      <td>small SUV</td>\n",
       "      <td>3</td>\n",
       "      <td>19</td>\n",
       "      <td>27</td>\n",
       "      <td>22</td>\n",
       "      <td>4</td>\n",
       "      <td>No</td>\n",
       "      <td>402</td>\n",
       "    </tr>\n",
       "    <tr>\n",
       "      <th>4</th>\n",
       "      <td>ACURA TLX</td>\n",
       "      <td>2.4</td>\n",
       "      <td>4.0</td>\n",
       "      <td>AMS-8</td>\n",
       "      <td>2WD</td>\n",
       "      <td>Gasoline</td>\n",
       "      <td>CA</td>\n",
       "      <td>L3ULEV125</td>\n",
       "      <td>California LEV-III ULEV125</td>\n",
       "      <td>JHNXV02.4WH3</td>\n",
       "      <td>small car</td>\n",
       "      <td>3</td>\n",
       "      <td>23</td>\n",
       "      <td>33</td>\n",
       "      <td>27</td>\n",
       "      <td>6</td>\n",
       "      <td>No</td>\n",
       "      <td>330</td>\n",
       "    </tr>\n",
       "  </tbody>\n",
       "</table>\n",
       "</div>"
      ],
      "text/plain": [
       "       Model  Displ  Cyl       Trans Drive      Fuel Cert Region       Stnd  \\\n",
       "0  ACURA RDX    3.5  6.0  SemiAuto-6   2WD  Gasoline          FA     T3B125   \n",
       "1  ACURA RDX    3.5  6.0  SemiAuto-6   2WD  Gasoline          CA         U2   \n",
       "2  ACURA RDX    3.5  6.0  SemiAuto-6   4WD  Gasoline          FA     T3B125   \n",
       "3  ACURA RDX    3.5  6.0  SemiAuto-6   4WD  Gasoline          CA         U2   \n",
       "4  ACURA TLX    2.4  4.0       AMS-8   2WD  Gasoline          CA  L3ULEV125   \n",
       "\n",
       "             Stnd Description  Underhood ID  Veh Class  Air Pollution Score  \\\n",
       "0      Federal Tier 3 Bin 125  JHNXT03.5GV3  small SUV                    3   \n",
       "1      California LEV-II ULEV  JHNXT03.5GV3  small SUV                    3   \n",
       "2      Federal Tier 3 Bin 125  JHNXT03.5GV3  small SUV                    3   \n",
       "3      California LEV-II ULEV  JHNXT03.5GV3  small SUV                    3   \n",
       "4  California LEV-III ULEV125  JHNXV02.4WH3  small car                    3   \n",
       "\n",
       "  City MPG Hwy MPG Cmb MPG  Greenhouse Gas Score SmartWay Comb CO2  \n",
       "0       20      28      23                     5       No      386  \n",
       "1       20      28      23                     5       No      386  \n",
       "2       19      27      22                     4       No      402  \n",
       "3       19      27      22                     4       No      402  \n",
       "4       23      33      27                     6       No      330  "
      ]
     },
     "execution_count": 3,
     "metadata": {},
     "output_type": "execute_result"
    }
   ],
   "source": [
    "df_18 = pd.read_csv('all_alpha_18.csv')\n",
    "df_18.head()"
   ]
  },
  {
   "cell_type": "markdown",
   "id": "802b4936",
   "metadata": {},
   "source": [
    "### - Number of samples and columns on each dataset"
   ]
  },
  {
   "cell_type": "code",
   "execution_count": 4,
   "id": "4620ea0f",
   "metadata": {},
   "outputs": [
    {
     "data": {
      "text/plain": [
       "(2404, 18)"
      ]
     },
     "execution_count": 4,
     "metadata": {},
     "output_type": "execute_result"
    }
   ],
   "source": [
    "df_08.shape"
   ]
  },
  {
   "cell_type": "code",
   "execution_count": 5,
   "id": "e94ad38c",
   "metadata": {},
   "outputs": [
    {
     "data": {
      "text/plain": [
       "(1611, 18)"
      ]
     },
     "execution_count": 5,
     "metadata": {},
     "output_type": "execute_result"
    }
   ],
   "source": [
    "df_18.shape"
   ]
  },
  {
   "cell_type": "markdown",
   "id": "dede9aa3",
   "metadata": {},
   "source": [
    "### - Number of duplicates in each daataset"
   ]
  },
  {
   "cell_type": "code",
   "execution_count": 6,
   "id": "f97497ee",
   "metadata": {},
   "outputs": [
    {
     "data": {
      "text/plain": [
       "25"
      ]
     },
     "execution_count": 6,
     "metadata": {},
     "output_type": "execute_result"
    }
   ],
   "source": [
    "df_08.duplicated().sum()"
   ]
  },
  {
   "cell_type": "code",
   "execution_count": 7,
   "id": "0ee3ca5c",
   "metadata": {},
   "outputs": [
    {
     "data": {
      "text/plain": [
       "0"
      ]
     },
     "execution_count": 7,
     "metadata": {},
     "output_type": "execute_result"
    }
   ],
   "source": [
    "df_18.duplicated().sum()"
   ]
  },
  {
   "cell_type": "markdown",
   "id": "836f3268",
   "metadata": {},
   "source": [
    "### - Number of features with missing values"
   ]
  },
  {
   "cell_type": "code",
   "execution_count": 8,
   "id": "a2e6d12a",
   "metadata": {},
   "outputs": [
    {
     "data": {
      "text/plain": [
       "Model                     0\n",
       "Displ                     0\n",
       "Cyl                     199\n",
       "Trans                   199\n",
       "Drive                    93\n",
       "Fuel                      0\n",
       "Sales Area                0\n",
       "Stnd                      0\n",
       "Underhood ID              0\n",
       "Veh Class                 0\n",
       "Air Pollution Score       0\n",
       "FE Calc Appr            199\n",
       "City MPG                199\n",
       "Hwy MPG                 199\n",
       "Cmb MPG                 199\n",
       "Unadj Cmb MPG           199\n",
       "Greenhouse Gas Score    199\n",
       "SmartWay                  0\n",
       "dtype: int64"
      ]
     },
     "execution_count": 8,
     "metadata": {},
     "output_type": "execute_result"
    }
   ],
   "source": [
    "df_08.isnull().sum()"
   ]
  },
  {
   "cell_type": "code",
   "execution_count": 9,
   "id": "a1a58079",
   "metadata": {},
   "outputs": [
    {
     "data": {
      "text/plain": [
       "Model                   0\n",
       "Displ                   2\n",
       "Cyl                     2\n",
       "Trans                   0\n",
       "Drive                   0\n",
       "Fuel                    0\n",
       "Cert Region             0\n",
       "Stnd                    0\n",
       "Stnd Description        0\n",
       "Underhood ID            0\n",
       "Veh Class               0\n",
       "Air Pollution Score     0\n",
       "City MPG                0\n",
       "Hwy MPG                 0\n",
       "Cmb MPG                 0\n",
       "Greenhouse Gas Score    0\n",
       "SmartWay                0\n",
       "Comb CO2                0\n",
       "dtype: int64"
      ]
     },
     "execution_count": 9,
     "metadata": {},
     "output_type": "execute_result"
    }
   ],
   "source": [
    "df_18.isnull().sum()"
   ]
  },
  {
   "cell_type": "markdown",
   "id": "478b2421",
   "metadata": {},
   "source": [
    "### - Datatypes of columns "
   ]
  },
  {
   "cell_type": "code",
   "execution_count": 10,
   "id": "c22cc980",
   "metadata": {},
   "outputs": [
    {
     "data": {
      "text/plain": [
       "Model                    object\n",
       "Displ                   float64\n",
       "Cyl                      object\n",
       "Trans                    object\n",
       "Drive                    object\n",
       "Fuel                     object\n",
       "Sales Area               object\n",
       "Stnd                     object\n",
       "Underhood ID             object\n",
       "Veh Class                object\n",
       "Air Pollution Score      object\n",
       "FE Calc Appr             object\n",
       "City MPG                 object\n",
       "Hwy MPG                  object\n",
       "Cmb MPG                  object\n",
       "Unadj Cmb MPG           float64\n",
       "Greenhouse Gas Score     object\n",
       "SmartWay                 object\n",
       "dtype: object"
      ]
     },
     "execution_count": 10,
     "metadata": {},
     "output_type": "execute_result"
    }
   ],
   "source": [
    "df_08.dtypes"
   ]
  },
  {
   "cell_type": "code",
   "execution_count": 11,
   "id": "59ab8a6c",
   "metadata": {},
   "outputs": [
    {
     "data": {
      "text/plain": [
       "Model                    object\n",
       "Displ                   float64\n",
       "Cyl                     float64\n",
       "Trans                    object\n",
       "Drive                    object\n",
       "Fuel                     object\n",
       "Cert Region              object\n",
       "Stnd                     object\n",
       "Stnd Description         object\n",
       "Underhood ID             object\n",
       "Veh Class                object\n",
       "Air Pollution Score       int64\n",
       "City MPG                 object\n",
       "Hwy MPG                  object\n",
       "Cmb MPG                  object\n",
       "Greenhouse Gas Score      int64\n",
       "SmartWay                 object\n",
       "Comb CO2                 object\n",
       "dtype: object"
      ]
     },
     "execution_count": 11,
     "metadata": {},
     "output_type": "execute_result"
    }
   ],
   "source": [
    "df_18.dtypes"
   ]
  },
  {
   "cell_type": "markdown",
   "id": "1f53e574",
   "metadata": {},
   "source": [
    "### - Numeber of non-null unique values for features in this dataset"
   ]
  },
  {
   "cell_type": "code",
   "execution_count": 12,
   "id": "6f1ad7e0",
   "metadata": {},
   "outputs": [
    {
     "data": {
      "text/plain": [
       "Model                   436\n",
       "Displ                    47\n",
       "Cyl                       8\n",
       "Trans                    14\n",
       "Drive                     2\n",
       "Fuel                      5\n",
       "Sales Area                3\n",
       "Stnd                     12\n",
       "Underhood ID            343\n",
       "Veh Class                 9\n",
       "Air Pollution Score      13\n",
       "FE Calc Appr              2\n",
       "City MPG                 39\n",
       "Hwy MPG                  43\n",
       "Cmb MPG                  38\n",
       "Unadj Cmb MPG           721\n",
       "Greenhouse Gas Score     20\n",
       "SmartWay                  2\n",
       "dtype: int64"
      ]
     },
     "execution_count": 12,
     "metadata": {},
     "output_type": "execute_result"
    }
   ],
   "source": [
    "df_08.nunique()"
   ]
  },
  {
   "cell_type": "code",
   "execution_count": 13,
   "id": "4123d829",
   "metadata": {},
   "outputs": [
    {
     "data": {
      "text/plain": [
       "Model                   367\n",
       "Displ                    36\n",
       "Cyl                       7\n",
       "Trans                    26\n",
       "Drive                     2\n",
       "Fuel                      5\n",
       "Cert Region               2\n",
       "Stnd                     19\n",
       "Stnd Description         19\n",
       "Underhood ID            230\n",
       "Veh Class                 9\n",
       "Air Pollution Score       6\n",
       "City MPG                 58\n",
       "Hwy MPG                  62\n",
       "Cmb MPG                  57\n",
       "Greenhouse Gas Score     10\n",
       "SmartWay                  3\n",
       "Comb CO2                299\n",
       "dtype: int64"
      ]
     },
     "execution_count": 13,
     "metadata": {},
     "output_type": "execute_result"
    }
   ],
   "source": [
    "df_18.nunique()"
   ]
  },
  {
   "cell_type": "markdown",
   "id": "7e7ed807",
   "metadata": {},
   "source": [
    "### - What those unique values are and counts for each"
   ]
  },
  {
   "cell_type": "code",
   "execution_count": 14,
   "id": "6bc9757d",
   "metadata": {},
   "outputs": [
    {
     "data": {
      "text/plain": [
       "array(['Gasoline', 'ethanol/gas', 'ethanol', 'diesel', 'CNG'],\n",
       "      dtype=object)"
      ]
     },
     "execution_count": 14,
     "metadata": {},
     "output_type": "execute_result"
    }
   ],
   "source": [
    "df_08['Fuel'].unique()"
   ]
  },
  {
   "cell_type": "code",
   "execution_count": 15,
   "id": "12acebc4",
   "metadata": {},
   "outputs": [
    {
     "data": {
      "text/plain": [
       "array(['Gasoline', 'Gasoline/Electricity', 'Diesel', 'Ethanol/Gas',\n",
       "       'Electricity'], dtype=object)"
      ]
     },
     "execution_count": 15,
     "metadata": {},
     "output_type": "execute_result"
    }
   ],
   "source": [
    "df_18['Fuel'].unique()"
   ]
  },
  {
   "cell_type": "markdown",
   "id": "22bc4585",
   "metadata": {},
   "source": [
    "## Cleaning Column Labels"
   ]
  },
  {
   "cell_type": "code",
   "execution_count": 16,
   "id": "629d1149",
   "metadata": {},
   "outputs": [],
   "source": [
    "df_08 = pd.read_csv('all_alpha_08.csv')\n",
    "df_18 = pd.read_csv('all_alpha_18.csv')"
   ]
  },
  {
   "cell_type": "code",
   "execution_count": 17,
   "id": "e6021730",
   "metadata": {},
   "outputs": [
    {
     "data": {
      "text/html": [
       "<div>\n",
       "<style scoped>\n",
       "    .dataframe tbody tr th:only-of-type {\n",
       "        vertical-align: middle;\n",
       "    }\n",
       "\n",
       "    .dataframe tbody tr th {\n",
       "        vertical-align: top;\n",
       "    }\n",
       "\n",
       "    .dataframe thead th {\n",
       "        text-align: right;\n",
       "    }\n",
       "</style>\n",
       "<table border=\"1\" class=\"dataframe\">\n",
       "  <thead>\n",
       "    <tr style=\"text-align: right;\">\n",
       "      <th></th>\n",
       "      <th>Model</th>\n",
       "      <th>Displ</th>\n",
       "      <th>Cyl</th>\n",
       "      <th>Trans</th>\n",
       "      <th>Drive</th>\n",
       "      <th>Fuel</th>\n",
       "      <th>Sales Area</th>\n",
       "      <th>Stnd</th>\n",
       "      <th>Underhood ID</th>\n",
       "      <th>Veh Class</th>\n",
       "      <th>Air Pollution Score</th>\n",
       "      <th>FE Calc Appr</th>\n",
       "      <th>City MPG</th>\n",
       "      <th>Hwy MPG</th>\n",
       "      <th>Cmb MPG</th>\n",
       "      <th>Unadj Cmb MPG</th>\n",
       "      <th>Greenhouse Gas Score</th>\n",
       "      <th>SmartWay</th>\n",
       "    </tr>\n",
       "  </thead>\n",
       "  <tbody>\n",
       "    <tr>\n",
       "      <th>0</th>\n",
       "      <td>ACURA MDX</td>\n",
       "      <td>3.7</td>\n",
       "      <td>(6 cyl)</td>\n",
       "      <td>Auto-S5</td>\n",
       "      <td>4WD</td>\n",
       "      <td>Gasoline</td>\n",
       "      <td>CA</td>\n",
       "      <td>U2</td>\n",
       "      <td>8HNXT03.7PKR</td>\n",
       "      <td>SUV</td>\n",
       "      <td>7</td>\n",
       "      <td>Drv</td>\n",
       "      <td>15</td>\n",
       "      <td>20</td>\n",
       "      <td>17</td>\n",
       "      <td>22.0527</td>\n",
       "      <td>4</td>\n",
       "      <td>no</td>\n",
       "    </tr>\n",
       "  </tbody>\n",
       "</table>\n",
       "</div>"
      ],
      "text/plain": [
       "       Model  Displ      Cyl    Trans Drive      Fuel Sales Area Stnd  \\\n",
       "0  ACURA MDX    3.7  (6 cyl)  Auto-S5   4WD  Gasoline         CA   U2   \n",
       "\n",
       "   Underhood ID Veh Class Air Pollution Score FE Calc Appr City MPG Hwy MPG  \\\n",
       "0  8HNXT03.7PKR       SUV                   7          Drv       15      20   \n",
       "\n",
       "  Cmb MPG  Unadj Cmb MPG Greenhouse Gas Score SmartWay  \n",
       "0      17        22.0527                    4       no  "
      ]
     },
     "execution_count": 17,
     "metadata": {},
     "output_type": "execute_result"
    }
   ],
   "source": [
    "df_08.head(1)"
   ]
  },
  {
   "cell_type": "code",
   "execution_count": 18,
   "id": "81bd68ef",
   "metadata": {},
   "outputs": [
    {
     "data": {
      "text/html": [
       "<div>\n",
       "<style scoped>\n",
       "    .dataframe tbody tr th:only-of-type {\n",
       "        vertical-align: middle;\n",
       "    }\n",
       "\n",
       "    .dataframe tbody tr th {\n",
       "        vertical-align: top;\n",
       "    }\n",
       "\n",
       "    .dataframe thead th {\n",
       "        text-align: right;\n",
       "    }\n",
       "</style>\n",
       "<table border=\"1\" class=\"dataframe\">\n",
       "  <thead>\n",
       "    <tr style=\"text-align: right;\">\n",
       "      <th></th>\n",
       "      <th>Model</th>\n",
       "      <th>Displ</th>\n",
       "      <th>Cyl</th>\n",
       "      <th>Trans</th>\n",
       "      <th>Drive</th>\n",
       "      <th>Fuel</th>\n",
       "      <th>Cert Region</th>\n",
       "      <th>Stnd</th>\n",
       "      <th>Stnd Description</th>\n",
       "      <th>Underhood ID</th>\n",
       "      <th>Veh Class</th>\n",
       "      <th>Air Pollution Score</th>\n",
       "      <th>City MPG</th>\n",
       "      <th>Hwy MPG</th>\n",
       "      <th>Cmb MPG</th>\n",
       "      <th>Greenhouse Gas Score</th>\n",
       "      <th>SmartWay</th>\n",
       "      <th>Comb CO2</th>\n",
       "    </tr>\n",
       "  </thead>\n",
       "  <tbody>\n",
       "    <tr>\n",
       "      <th>0</th>\n",
       "      <td>ACURA RDX</td>\n",
       "      <td>3.5</td>\n",
       "      <td>6.0</td>\n",
       "      <td>SemiAuto-6</td>\n",
       "      <td>2WD</td>\n",
       "      <td>Gasoline</td>\n",
       "      <td>FA</td>\n",
       "      <td>T3B125</td>\n",
       "      <td>Federal Tier 3 Bin 125</td>\n",
       "      <td>JHNXT03.5GV3</td>\n",
       "      <td>small SUV</td>\n",
       "      <td>3</td>\n",
       "      <td>20</td>\n",
       "      <td>28</td>\n",
       "      <td>23</td>\n",
       "      <td>5</td>\n",
       "      <td>No</td>\n",
       "      <td>386</td>\n",
       "    </tr>\n",
       "  </tbody>\n",
       "</table>\n",
       "</div>"
      ],
      "text/plain": [
       "       Model  Displ  Cyl       Trans Drive      Fuel Cert Region    Stnd  \\\n",
       "0  ACURA RDX    3.5  6.0  SemiAuto-6   2WD  Gasoline          FA  T3B125   \n",
       "\n",
       "         Stnd Description  Underhood ID  Veh Class  Air Pollution Score  \\\n",
       "0  Federal Tier 3 Bin 125  JHNXT03.5GV3  small SUV                    3   \n",
       "\n",
       "  City MPG Hwy MPG Cmb MPG  Greenhouse Gas Score SmartWay Comb CO2  \n",
       "0       20      28      23                     5       No      386  "
      ]
     },
     "execution_count": 18,
     "metadata": {},
     "output_type": "execute_result"
    }
   ],
   "source": [
    "df_18.head(1)"
   ]
  },
  {
   "cell_type": "markdown",
   "id": "8a368e5c",
   "metadata": {},
   "source": [
    "### Drop Extraneous Columns"
   ]
  },
  {
   "cell_type": "code",
   "execution_count": 19,
   "id": "974d9dee",
   "metadata": {},
   "outputs": [],
   "source": [
    "# drop columns from 2008 dataset\n",
    "df_08.drop(['Stnd', 'Underhood ID', 'FE Calc Appr', 'Unadj Cmb MPG'], axis=1, inplace=True)"
   ]
  },
  {
   "cell_type": "code",
   "execution_count": 20,
   "id": "c47738c3",
   "metadata": {},
   "outputs": [
    {
     "data": {
      "text/html": [
       "<div>\n",
       "<style scoped>\n",
       "    .dataframe tbody tr th:only-of-type {\n",
       "        vertical-align: middle;\n",
       "    }\n",
       "\n",
       "    .dataframe tbody tr th {\n",
       "        vertical-align: top;\n",
       "    }\n",
       "\n",
       "    .dataframe thead th {\n",
       "        text-align: right;\n",
       "    }\n",
       "</style>\n",
       "<table border=\"1\" class=\"dataframe\">\n",
       "  <thead>\n",
       "    <tr style=\"text-align: right;\">\n",
       "      <th></th>\n",
       "      <th>Model</th>\n",
       "      <th>Displ</th>\n",
       "      <th>Cyl</th>\n",
       "      <th>Trans</th>\n",
       "      <th>Drive</th>\n",
       "      <th>Fuel</th>\n",
       "      <th>Sales Area</th>\n",
       "      <th>Veh Class</th>\n",
       "      <th>Air Pollution Score</th>\n",
       "      <th>City MPG</th>\n",
       "      <th>Hwy MPG</th>\n",
       "      <th>Cmb MPG</th>\n",
       "      <th>Greenhouse Gas Score</th>\n",
       "      <th>SmartWay</th>\n",
       "    </tr>\n",
       "  </thead>\n",
       "  <tbody>\n",
       "    <tr>\n",
       "      <th>0</th>\n",
       "      <td>ACURA MDX</td>\n",
       "      <td>3.7</td>\n",
       "      <td>(6 cyl)</td>\n",
       "      <td>Auto-S5</td>\n",
       "      <td>4WD</td>\n",
       "      <td>Gasoline</td>\n",
       "      <td>CA</td>\n",
       "      <td>SUV</td>\n",
       "      <td>7</td>\n",
       "      <td>15</td>\n",
       "      <td>20</td>\n",
       "      <td>17</td>\n",
       "      <td>4</td>\n",
       "      <td>no</td>\n",
       "    </tr>\n",
       "  </tbody>\n",
       "</table>\n",
       "</div>"
      ],
      "text/plain": [
       "       Model  Displ      Cyl    Trans Drive      Fuel Sales Area Veh Class  \\\n",
       "0  ACURA MDX    3.7  (6 cyl)  Auto-S5   4WD  Gasoline         CA       SUV   \n",
       "\n",
       "  Air Pollution Score City MPG Hwy MPG Cmb MPG Greenhouse Gas Score SmartWay  \n",
       "0                   7       15      20      17                    4       no  "
      ]
     },
     "execution_count": 20,
     "metadata": {},
     "output_type": "execute_result"
    }
   ],
   "source": [
    "# confirm changes\n",
    "df_08.head(1)"
   ]
  },
  {
   "cell_type": "code",
   "execution_count": 21,
   "id": "2b513999",
   "metadata": {},
   "outputs": [],
   "source": [
    "# drop columns from 2018 dataset\n",
    "df_18.drop(['Stnd', 'Stnd Description', 'Underhood ID', 'Comb CO2'], axis=1, inplace=True)"
   ]
  },
  {
   "cell_type": "code",
   "execution_count": 22,
   "id": "eb69107f",
   "metadata": {},
   "outputs": [
    {
     "data": {
      "text/html": [
       "<div>\n",
       "<style scoped>\n",
       "    .dataframe tbody tr th:only-of-type {\n",
       "        vertical-align: middle;\n",
       "    }\n",
       "\n",
       "    .dataframe tbody tr th {\n",
       "        vertical-align: top;\n",
       "    }\n",
       "\n",
       "    .dataframe thead th {\n",
       "        text-align: right;\n",
       "    }\n",
       "</style>\n",
       "<table border=\"1\" class=\"dataframe\">\n",
       "  <thead>\n",
       "    <tr style=\"text-align: right;\">\n",
       "      <th></th>\n",
       "      <th>Model</th>\n",
       "      <th>Displ</th>\n",
       "      <th>Cyl</th>\n",
       "      <th>Trans</th>\n",
       "      <th>Drive</th>\n",
       "      <th>Fuel</th>\n",
       "      <th>Cert Region</th>\n",
       "      <th>Veh Class</th>\n",
       "      <th>Air Pollution Score</th>\n",
       "      <th>City MPG</th>\n",
       "      <th>Hwy MPG</th>\n",
       "      <th>Cmb MPG</th>\n",
       "      <th>Greenhouse Gas Score</th>\n",
       "      <th>SmartWay</th>\n",
       "    </tr>\n",
       "  </thead>\n",
       "  <tbody>\n",
       "    <tr>\n",
       "      <th>0</th>\n",
       "      <td>ACURA RDX</td>\n",
       "      <td>3.5</td>\n",
       "      <td>6.0</td>\n",
       "      <td>SemiAuto-6</td>\n",
       "      <td>2WD</td>\n",
       "      <td>Gasoline</td>\n",
       "      <td>FA</td>\n",
       "      <td>small SUV</td>\n",
       "      <td>3</td>\n",
       "      <td>20</td>\n",
       "      <td>28</td>\n",
       "      <td>23</td>\n",
       "      <td>5</td>\n",
       "      <td>No</td>\n",
       "    </tr>\n",
       "  </tbody>\n",
       "</table>\n",
       "</div>"
      ],
      "text/plain": [
       "       Model  Displ  Cyl       Trans Drive      Fuel Cert Region  Veh Class  \\\n",
       "0  ACURA RDX    3.5  6.0  SemiAuto-6   2WD  Gasoline          FA  small SUV   \n",
       "\n",
       "   Air Pollution Score City MPG Hwy MPG Cmb MPG  Greenhouse Gas Score SmartWay  \n",
       "0                    3       20      28      23                     5       No  "
      ]
     },
     "execution_count": 22,
     "metadata": {},
     "output_type": "execute_result"
    }
   ],
   "source": [
    "df_18.head(1)"
   ]
  },
  {
   "cell_type": "markdown",
   "id": "acf6cb46",
   "metadata": {},
   "source": [
    "### Rename Columns"
   ]
  },
  {
   "cell_type": "code",
   "execution_count": 23,
   "id": "dc5aae02",
   "metadata": {},
   "outputs": [
    {
     "data": {
      "text/html": [
       "<div>\n",
       "<style scoped>\n",
       "    .dataframe tbody tr th:only-of-type {\n",
       "        vertical-align: middle;\n",
       "    }\n",
       "\n",
       "    .dataframe tbody tr th {\n",
       "        vertical-align: top;\n",
       "    }\n",
       "\n",
       "    .dataframe thead th {\n",
       "        text-align: right;\n",
       "    }\n",
       "</style>\n",
       "<table border=\"1\" class=\"dataframe\">\n",
       "  <thead>\n",
       "    <tr style=\"text-align: right;\">\n",
       "      <th></th>\n",
       "      <th>Model</th>\n",
       "      <th>Displ</th>\n",
       "      <th>Cyl</th>\n",
       "      <th>Trans</th>\n",
       "      <th>Drive</th>\n",
       "      <th>Fuel</th>\n",
       "      <th>Cert Region</th>\n",
       "      <th>Veh Class</th>\n",
       "      <th>Air Pollution Score</th>\n",
       "      <th>City MPG</th>\n",
       "      <th>Hwy MPG</th>\n",
       "      <th>Cmb MPG</th>\n",
       "      <th>Greenhouse Gas Score</th>\n",
       "      <th>SmartWay</th>\n",
       "    </tr>\n",
       "  </thead>\n",
       "  <tbody>\n",
       "    <tr>\n",
       "      <th>0</th>\n",
       "      <td>ACURA MDX</td>\n",
       "      <td>3.7</td>\n",
       "      <td>(6 cyl)</td>\n",
       "      <td>Auto-S5</td>\n",
       "      <td>4WD</td>\n",
       "      <td>Gasoline</td>\n",
       "      <td>CA</td>\n",
       "      <td>SUV</td>\n",
       "      <td>7</td>\n",
       "      <td>15</td>\n",
       "      <td>20</td>\n",
       "      <td>17</td>\n",
       "      <td>4</td>\n",
       "      <td>no</td>\n",
       "    </tr>\n",
       "  </tbody>\n",
       "</table>\n",
       "</div>"
      ],
      "text/plain": [
       "       Model  Displ      Cyl    Trans Drive      Fuel Cert Region Veh Class  \\\n",
       "0  ACURA MDX    3.7  (6 cyl)  Auto-S5   4WD  Gasoline          CA       SUV   \n",
       "\n",
       "  Air Pollution Score City MPG Hwy MPG Cmb MPG Greenhouse Gas Score SmartWay  \n",
       "0                   7       15      20      17                    4       no  "
      ]
     },
     "execution_count": 23,
     "metadata": {},
     "output_type": "execute_result"
    }
   ],
   "source": [
    "# rename Sales Area to Cert Region\n",
    "df_08.rename(columns={'Sales Area' : 'Cert Region'}, inplace=True)\n",
    "# confirm changes\n",
    "df_08.head(1)"
   ]
  },
  {
   "cell_type": "code",
   "execution_count": 24,
   "id": "e5ae109c",
   "metadata": {},
   "outputs": [
    {
     "data": {
      "text/html": [
       "<div>\n",
       "<style scoped>\n",
       "    .dataframe tbody tr th:only-of-type {\n",
       "        vertical-align: middle;\n",
       "    }\n",
       "\n",
       "    .dataframe tbody tr th {\n",
       "        vertical-align: top;\n",
       "    }\n",
       "\n",
       "    .dataframe thead th {\n",
       "        text-align: right;\n",
       "    }\n",
       "</style>\n",
       "<table border=\"1\" class=\"dataframe\">\n",
       "  <thead>\n",
       "    <tr style=\"text-align: right;\">\n",
       "      <th></th>\n",
       "      <th>model</th>\n",
       "      <th>displ</th>\n",
       "      <th>cyl</th>\n",
       "      <th>trans</th>\n",
       "      <th>drive</th>\n",
       "      <th>fuel</th>\n",
       "      <th>cert_region</th>\n",
       "      <th>veh_class</th>\n",
       "      <th>air_pollution_score</th>\n",
       "      <th>city_mpg</th>\n",
       "      <th>hwy_mpg</th>\n",
       "      <th>cmb_mpg</th>\n",
       "      <th>greenhouse_gas_score</th>\n",
       "      <th>smartway</th>\n",
       "    </tr>\n",
       "  </thead>\n",
       "  <tbody>\n",
       "    <tr>\n",
       "      <th>0</th>\n",
       "      <td>ACURA MDX</td>\n",
       "      <td>3.7</td>\n",
       "      <td>(6 cyl)</td>\n",
       "      <td>Auto-S5</td>\n",
       "      <td>4WD</td>\n",
       "      <td>Gasoline</td>\n",
       "      <td>CA</td>\n",
       "      <td>SUV</td>\n",
       "      <td>7</td>\n",
       "      <td>15</td>\n",
       "      <td>20</td>\n",
       "      <td>17</td>\n",
       "      <td>4</td>\n",
       "      <td>no</td>\n",
       "    </tr>\n",
       "  </tbody>\n",
       "</table>\n",
       "</div>"
      ],
      "text/plain": [
       "       model  displ      cyl    trans drive      fuel cert_region veh_class  \\\n",
       "0  ACURA MDX    3.7  (6 cyl)  Auto-S5   4WD  Gasoline          CA       SUV   \n",
       "\n",
       "  air_pollution_score city_mpg hwy_mpg cmb_mpg greenhouse_gas_score smartway  \n",
       "0                   7       15      20      17                    4       no  "
      ]
     },
     "execution_count": 24,
     "metadata": {},
     "output_type": "execute_result"
    }
   ],
   "source": [
    "# replace spaces with underscores and lowercase labels for 2008 dataset\n",
    "df_08.rename(columns=lambda x: x.strip().lower().replace(\" \", \"_\"), inplace=True)\n",
    "\n",
    "# confirm changes\n",
    "df_08.head(1)"
   ]
  },
  {
   "cell_type": "code",
   "execution_count": 25,
   "id": "f2558d56",
   "metadata": {},
   "outputs": [
    {
     "data": {
      "text/html": [
       "<div>\n",
       "<style scoped>\n",
       "    .dataframe tbody tr th:only-of-type {\n",
       "        vertical-align: middle;\n",
       "    }\n",
       "\n",
       "    .dataframe tbody tr th {\n",
       "        vertical-align: top;\n",
       "    }\n",
       "\n",
       "    .dataframe thead th {\n",
       "        text-align: right;\n",
       "    }\n",
       "</style>\n",
       "<table border=\"1\" class=\"dataframe\">\n",
       "  <thead>\n",
       "    <tr style=\"text-align: right;\">\n",
       "      <th></th>\n",
       "      <th>model</th>\n",
       "      <th>displ</th>\n",
       "      <th>cyl</th>\n",
       "      <th>trans</th>\n",
       "      <th>drive</th>\n",
       "      <th>fuel</th>\n",
       "      <th>cert_region</th>\n",
       "      <th>veh_class</th>\n",
       "      <th>air_pollution_score</th>\n",
       "      <th>city_mpg</th>\n",
       "      <th>hwy_mpg</th>\n",
       "      <th>cmb_mpg</th>\n",
       "      <th>greenhouse_gas_score</th>\n",
       "      <th>smartway</th>\n",
       "    </tr>\n",
       "  </thead>\n",
       "  <tbody>\n",
       "    <tr>\n",
       "      <th>0</th>\n",
       "      <td>ACURA RDX</td>\n",
       "      <td>3.5</td>\n",
       "      <td>6.0</td>\n",
       "      <td>SemiAuto-6</td>\n",
       "      <td>2WD</td>\n",
       "      <td>Gasoline</td>\n",
       "      <td>FA</td>\n",
       "      <td>small SUV</td>\n",
       "      <td>3</td>\n",
       "      <td>20</td>\n",
       "      <td>28</td>\n",
       "      <td>23</td>\n",
       "      <td>5</td>\n",
       "      <td>No</td>\n",
       "    </tr>\n",
       "  </tbody>\n",
       "</table>\n",
       "</div>"
      ],
      "text/plain": [
       "       model  displ  cyl       trans drive      fuel cert_region  veh_class  \\\n",
       "0  ACURA RDX    3.5  6.0  SemiAuto-6   2WD  Gasoline          FA  small SUV   \n",
       "\n",
       "   air_pollution_score city_mpg hwy_mpg cmb_mpg  greenhouse_gas_score smartway  \n",
       "0                    3       20      28      23                     5       No  "
      ]
     },
     "execution_count": 25,
     "metadata": {},
     "output_type": "execute_result"
    }
   ],
   "source": [
    "# replace spaces with underscores and lowercase labels for 2018 dataset\n",
    "df_18.rename(columns=lambda x: x.strip().lower().replace(\" \", \"_\"), inplace=True)\n",
    "\n",
    "# confirm changes\n",
    "df_18.head(1)"
   ]
  },
  {
   "cell_type": "code",
   "execution_count": 26,
   "id": "1c389229",
   "metadata": {},
   "outputs": [
    {
     "data": {
      "text/plain": [
       "array([ True,  True,  True,  True,  True,  True,  True,  True,  True,\n",
       "        True,  True,  True,  True,  True])"
      ]
     },
     "execution_count": 26,
     "metadata": {},
     "output_type": "execute_result"
    }
   ],
   "source": [
    "# confirm column labels for 2008 and 2018 datasets are identical\n",
    "df_08.columns == df_18.columns"
   ]
  },
  {
   "cell_type": "code",
   "execution_count": 27,
   "id": "da3e512e",
   "metadata": {},
   "outputs": [
    {
     "data": {
      "text/plain": [
       "True"
      ]
     },
     "execution_count": 27,
     "metadata": {},
     "output_type": "execute_result"
    }
   ],
   "source": [
    "# make sure they're all identical like this\n",
    "(df_08.columns == df_18.columns).all()"
   ]
  },
  {
   "cell_type": "code",
   "execution_count": 28,
   "id": "1badf20d",
   "metadata": {},
   "outputs": [],
   "source": [
    "# save new datasets for next section\n",
    "df_08.to_csv('data_08_v1.csv', index=False)\n",
    "df_18.to_csv('data_18_v1.csv', index=False)"
   ]
  },
  {
   "cell_type": "markdown",
   "id": "1ac5d05c",
   "metadata": {},
   "source": [
    "## Filter, Drop Nulls, Dedupe"
   ]
  },
  {
   "cell_type": "code",
   "execution_count": 29,
   "id": "37bcc053",
   "metadata": {},
   "outputs": [],
   "source": [
    "df_08 = pd.read_csv('data_08_v1.csv')\n",
    "df_18 = pd.read_csv('data_18_v1.csv')"
   ]
  },
  {
   "cell_type": "code",
   "execution_count": 30,
   "id": "44acdd7a",
   "metadata": {},
   "outputs": [
    {
     "data": {
      "text/plain": [
       "(2404, 14)"
      ]
     },
     "execution_count": 30,
     "metadata": {},
     "output_type": "execute_result"
    }
   ],
   "source": [
    "df_08.shape"
   ]
  },
  {
   "cell_type": "code",
   "execution_count": 31,
   "id": "e06d250f",
   "metadata": {},
   "outputs": [
    {
     "data": {
      "text/plain": [
       "(1611, 14)"
      ]
     },
     "execution_count": 31,
     "metadata": {},
     "output_type": "execute_result"
    }
   ],
   "source": [
    "df_18.shape"
   ]
  },
  {
   "cell_type": "markdown",
   "id": "a7ce637d",
   "metadata": {},
   "source": [
    "### Filter by Certification Region"
   ]
  },
  {
   "cell_type": "code",
   "execution_count": 32,
   "id": "beaa323b",
   "metadata": {},
   "outputs": [],
   "source": [
    "df_08 = df_08.query('cert_region == \"CA\"')"
   ]
  },
  {
   "cell_type": "code",
   "execution_count": 33,
   "id": "aabf45e2",
   "metadata": {},
   "outputs": [
    {
     "data": {
      "text/plain": [
       "(1084, 14)"
      ]
     },
     "execution_count": 33,
     "metadata": {},
     "output_type": "execute_result"
    }
   ],
   "source": [
    "df_08.shape"
   ]
  },
  {
   "cell_type": "code",
   "execution_count": 34,
   "id": "b7d39f09",
   "metadata": {},
   "outputs": [],
   "source": [
    "df_18 = df_18.query('cert_region == \"CA\"')"
   ]
  },
  {
   "cell_type": "code",
   "execution_count": 35,
   "id": "6c4c9fd5",
   "metadata": {},
   "outputs": [
    {
     "data": {
      "text/plain": [
       "(798, 14)"
      ]
     },
     "execution_count": 35,
     "metadata": {},
     "output_type": "execute_result"
    }
   ],
   "source": [
    "df_18.shape"
   ]
  },
  {
   "cell_type": "code",
   "execution_count": 36,
   "id": "247474ff",
   "metadata": {},
   "outputs": [
    {
     "data": {
      "text/plain": [
       "array(['CA'], dtype=object)"
      ]
     },
     "execution_count": 36,
     "metadata": {},
     "output_type": "execute_result"
    }
   ],
   "source": [
    "# confirm only certification region is California\n",
    "df_08['cert_region'].unique()"
   ]
  },
  {
   "cell_type": "code",
   "execution_count": 37,
   "id": "2f085dda",
   "metadata": {},
   "outputs": [
    {
     "data": {
      "text/plain": [
       "array(['CA'], dtype=object)"
      ]
     },
     "execution_count": 37,
     "metadata": {},
     "output_type": "execute_result"
    }
   ],
   "source": [
    "# confirm only certification region is California\n",
    "df_18['cert_region'].unique()"
   ]
  },
  {
   "cell_type": "code",
   "execution_count": 38,
   "id": "fcf0541d",
   "metadata": {},
   "outputs": [],
   "source": [
    "# drop certification region columns form both datasets\n",
    "df_08.drop(['cert_region'], axis=1, inplace=True)\n",
    "df_18.drop(['cert_region'], axis=1, inplace=True)"
   ]
  },
  {
   "cell_type": "code",
   "execution_count": 39,
   "id": "f5d33c5b",
   "metadata": {},
   "outputs": [
    {
     "data": {
      "text/plain": [
       "(1084, 13)"
      ]
     },
     "execution_count": 39,
     "metadata": {},
     "output_type": "execute_result"
    }
   ],
   "source": [
    "df_08.shape"
   ]
  },
  {
   "cell_type": "code",
   "execution_count": 40,
   "id": "4f8f7d06",
   "metadata": {},
   "outputs": [
    {
     "data": {
      "text/plain": [
       "(798, 13)"
      ]
     },
     "execution_count": 40,
     "metadata": {},
     "output_type": "execute_result"
    }
   ],
   "source": [
    "df_18.shape"
   ]
  },
  {
   "cell_type": "markdown",
   "id": "afbe6c2b",
   "metadata": {},
   "source": [
    "### Drop Rows with Missing Values"
   ]
  },
  {
   "cell_type": "code",
   "execution_count": 41,
   "id": "de19aa38",
   "metadata": {},
   "outputs": [
    {
     "data": {
      "text/plain": [
       "model                    0\n",
       "displ                    0\n",
       "cyl                     75\n",
       "trans                   75\n",
       "drive                   37\n",
       "fuel                     0\n",
       "veh_class                0\n",
       "air_pollution_score      0\n",
       "city_mpg                75\n",
       "hwy_mpg                 75\n",
       "cmb_mpg                 75\n",
       "greenhouse_gas_score    75\n",
       "smartway                 0\n",
       "dtype: int64"
      ]
     },
     "execution_count": 41,
     "metadata": {},
     "output_type": "execute_result"
    }
   ],
   "source": [
    "# view missing value count for each feature in 2008\n",
    "df_08.isnull().sum()"
   ]
  },
  {
   "cell_type": "code",
   "execution_count": 42,
   "id": "88bb7cf4",
   "metadata": {},
   "outputs": [
    {
     "data": {
      "text/plain": [
       "model                   0\n",
       "displ                   1\n",
       "cyl                     1\n",
       "trans                   0\n",
       "drive                   0\n",
       "fuel                    0\n",
       "veh_class               0\n",
       "air_pollution_score     0\n",
       "city_mpg                0\n",
       "hwy_mpg                 0\n",
       "cmb_mpg                 0\n",
       "greenhouse_gas_score    0\n",
       "smartway                0\n",
       "dtype: int64"
      ]
     },
     "execution_count": 42,
     "metadata": {},
     "output_type": "execute_result"
    }
   ],
   "source": [
    "# view missing value count for each feature in 2018\n",
    "df_18.isnull().sum()"
   ]
  },
  {
   "cell_type": "code",
   "execution_count": 43,
   "id": "ceeef0f6",
   "metadata": {},
   "outputs": [
    {
     "data": {
      "text/plain": [
       "(1009, 13)"
      ]
     },
     "execution_count": 43,
     "metadata": {},
     "output_type": "execute_result"
    }
   ],
   "source": [
    "# drop rows with any null values in both datasets\n",
    "df_08.dropna(inplace=True)\n",
    "df_08.shape"
   ]
  },
  {
   "cell_type": "code",
   "execution_count": 44,
   "id": "6e3ed1ab",
   "metadata": {},
   "outputs": [
    {
     "data": {
      "text/plain": [
       "(797, 13)"
      ]
     },
     "execution_count": 44,
     "metadata": {},
     "output_type": "execute_result"
    }
   ],
   "source": [
    "df_18.dropna(inplace=True)\n",
    "df_18.shape"
   ]
  },
  {
   "cell_type": "code",
   "execution_count": 45,
   "id": "e8f1bf00",
   "metadata": {},
   "outputs": [
    {
     "data": {
      "text/plain": [
       "False"
      ]
     },
     "execution_count": 45,
     "metadata": {},
     "output_type": "execute_result"
    }
   ],
   "source": [
    "# checks if any of columns in 2008 have null values - should print False\n",
    "df_08.isnull().sum().any()"
   ]
  },
  {
   "cell_type": "code",
   "execution_count": 46,
   "id": "0677d686",
   "metadata": {},
   "outputs": [
    {
     "data": {
      "text/plain": [
       "False"
      ]
     },
     "execution_count": 46,
     "metadata": {},
     "output_type": "execute_result"
    }
   ],
   "source": [
    "# checks if any of columns in 2018 have null values - should print False\n",
    "df_18.isnull().sum().any()"
   ]
  },
  {
   "cell_type": "markdown",
   "id": "149b5e51",
   "metadata": {},
   "source": [
    "### Dedupe Data"
   ]
  },
  {
   "cell_type": "code",
   "execution_count": 47,
   "id": "3961d27a",
   "metadata": {},
   "outputs": [
    {
     "data": {
      "text/plain": [
       "(23, 3)"
      ]
     },
     "execution_count": 47,
     "metadata": {},
     "output_type": "execute_result"
    }
   ],
   "source": [
    "# print number of duplicates in 2008 and 2018 datasets\n",
    "df_08.duplicated().sum(), df_18.duplicated().sum()"
   ]
  },
  {
   "cell_type": "code",
   "execution_count": 48,
   "id": "7e9c0775",
   "metadata": {},
   "outputs": [],
   "source": [
    "# drop duplicates in both datasets\n",
    "df_08.drop_duplicates(inplace=True)\n",
    "df_18.drop_duplicates(inplace=True)"
   ]
  },
  {
   "cell_type": "code",
   "execution_count": 49,
   "id": "d440e4dc",
   "metadata": {},
   "outputs": [
    {
     "data": {
      "text/plain": [
       "(0, 0)"
      ]
     },
     "execution_count": 49,
     "metadata": {},
     "output_type": "execute_result"
    }
   ],
   "source": [
    "# print number of duplicates again to confirm dedupe - should both be 0\n",
    "df_08.duplicated().sum(), df_18.duplicated().sum()"
   ]
  },
  {
   "cell_type": "code",
   "execution_count": 50,
   "id": "9cf95b3f",
   "metadata": {},
   "outputs": [],
   "source": [
    "# save progress for the next section\n",
    "df_08.to_csv('data_08_v2.csv', index=False)\n",
    "df_18.to_csv('data_18_v2.csv', index=False)"
   ]
  },
  {
   "cell_type": "code",
   "execution_count": 51,
   "id": "9156a4dd",
   "metadata": {
    "scrolled": true
   },
   "outputs": [
    {
     "data": {
      "text/plain": [
       "(986, 13)"
      ]
     },
     "execution_count": 51,
     "metadata": {},
     "output_type": "execute_result"
    }
   ],
   "source": [
    "df_08.shape"
   ]
  },
  {
   "cell_type": "code",
   "execution_count": 52,
   "id": "f5dd4061",
   "metadata": {},
   "outputs": [
    {
     "data": {
      "text/plain": [
       "(794, 13)"
      ]
     },
     "execution_count": 52,
     "metadata": {},
     "output_type": "execute_result"
    }
   ],
   "source": [
    "df_18.shape"
   ]
  },
  {
   "cell_type": "markdown",
   "id": "53917bf7",
   "metadata": {},
   "source": [
    "## Fixing `cyl` Data Type"
   ]
  },
  {
   "cell_type": "code",
   "execution_count": 53,
   "id": "fd0f0de5",
   "metadata": {},
   "outputs": [],
   "source": [
    "df_08 = pd.read_csv('data_08_v2.csv')\n",
    "df_18 = pd.read_csv('data_18_v2.csv')"
   ]
  },
  {
   "cell_type": "code",
   "execution_count": 54,
   "id": "87b808ca",
   "metadata": {},
   "outputs": [
    {
     "data": {
      "text/plain": [
       "(6 cyl)     409\n",
       "(4 cyl)     283\n",
       "(8 cyl)     199\n",
       "(5 cyl)      48\n",
       "(12 cyl)     30\n",
       "(10 cyl)     14\n",
       "(2 cyl)       2\n",
       "(16 cyl)      1\n",
       "Name: cyl, dtype: int64"
      ]
     },
     "execution_count": 54,
     "metadata": {},
     "output_type": "execute_result"
    }
   ],
   "source": [
    "# check value counts for the 2008 cyl column\n",
    "df_08['cyl'].value_counts()"
   ]
  },
  {
   "cell_type": "code",
   "execution_count": 55,
   "id": "c9f06848",
   "metadata": {},
   "outputs": [],
   "source": [
    "# Extract int from strings in the 2008 cyl column\n",
    "df_08['cyl'] = df_08['cyl'].str.extract('(\\d+)').astype(int)"
   ]
  },
  {
   "cell_type": "code",
   "execution_count": 56,
   "id": "39e3945f",
   "metadata": {},
   "outputs": [
    {
     "data": {
      "text/plain": [
       "6     409\n",
       "4     283\n",
       "8     199\n",
       "5      48\n",
       "12     30\n",
       "10     14\n",
       "2       2\n",
       "16      1\n",
       "Name: cyl, dtype: int64"
      ]
     },
     "execution_count": 56,
     "metadata": {},
     "output_type": "execute_result"
    }
   ],
   "source": [
    "# Check value counts for 2008 cyl column again to confirm the change\n",
    "df_08['cyl'].value_counts()"
   ]
  },
  {
   "cell_type": "code",
   "execution_count": 57,
   "id": "7cbc71c5",
   "metadata": {},
   "outputs": [
    {
     "data": {
      "text/plain": [
       "4.0     365\n",
       "6.0     246\n",
       "8.0     153\n",
       "3.0      18\n",
       "12.0      9\n",
       "5.0       2\n",
       "16.0      1\n",
       "Name: cyl, dtype: int64"
      ]
     },
     "execution_count": 57,
     "metadata": {},
     "output_type": "execute_result"
    }
   ],
   "source": [
    "df_18['cyl'].value_counts()"
   ]
  },
  {
   "cell_type": "code",
   "execution_count": 58,
   "id": "ca34fb30",
   "metadata": {},
   "outputs": [],
   "source": [
    "# convert 2018 cyl column to int\n",
    "df_18['cyl'] = df_18['cyl'].astype(int)"
   ]
  },
  {
   "cell_type": "code",
   "execution_count": 59,
   "id": "5e0dc507",
   "metadata": {},
   "outputs": [
    {
     "data": {
      "text/plain": [
       "4     365\n",
       "6     246\n",
       "8     153\n",
       "3      18\n",
       "12      9\n",
       "5       2\n",
       "16      1\n",
       "Name: cyl, dtype: int64"
      ]
     },
     "execution_count": 59,
     "metadata": {},
     "output_type": "execute_result"
    }
   ],
   "source": [
    "df_18['cyl'].value_counts()"
   ]
  },
  {
   "cell_type": "code",
   "execution_count": 60,
   "id": "fcde5fe3",
   "metadata": {},
   "outputs": [],
   "source": [
    "df_08.to_csv('data_08_v3.csv', index=False)\n",
    "df_18.to_csv('data_18_v3.csv', index=False)"
   ]
  },
  {
   "cell_type": "markdown",
   "id": "576219b7",
   "metadata": {},
   "source": [
    "## Fixing `air_pollution_score` Data Type"
   ]
  },
  {
   "cell_type": "code",
   "execution_count": 149,
   "id": "98b8c56d",
   "metadata": {},
   "outputs": [],
   "source": [
    "df_08 = pd.read_csv('data_08_v3.csv')\n",
    "df_18 = pd.read_csv('data_18_v3.csv')"
   ]
  },
  {
   "cell_type": "code",
   "execution_count": 150,
   "id": "e88139cf",
   "metadata": {},
   "outputs": [
    {
     "name": "stdout",
     "output_type": "stream",
     "text": [
      "<class 'pandas.core.frame.DataFrame'>\n",
      "RangeIndex: 986 entries, 0 to 985\n",
      "Data columns (total 13 columns):\n",
      " #   Column                Non-Null Count  Dtype  \n",
      "---  ------                --------------  -----  \n",
      " 0   model                 986 non-null    object \n",
      " 1   displ                 986 non-null    float64\n",
      " 2   cyl                   986 non-null    int64  \n",
      " 3   trans                 986 non-null    object \n",
      " 4   drive                 986 non-null    object \n",
      " 5   fuel                  986 non-null    object \n",
      " 6   veh_class             986 non-null    object \n",
      " 7   air_pollution_score   986 non-null    object \n",
      " 8   city_mpg              986 non-null    object \n",
      " 9   hwy_mpg               986 non-null    object \n",
      " 10  cmb_mpg               986 non-null    object \n",
      " 11  greenhouse_gas_score  986 non-null    object \n",
      " 12  smartway              986 non-null    object \n",
      "dtypes: float64(1), int64(1), object(11)\n",
      "memory usage: 100.3+ KB\n"
     ]
    },
    {
     "ename": "KeyError",
     "evalue": "'air_polution_score'",
     "output_type": "error",
     "traceback": [
      "\u001b[1;31m---------------------------------------------------------------------------\u001b[0m",
      "\u001b[1;31mKeyError\u001b[0m                                  Traceback (most recent call last)",
      "\u001b[1;32m~\\anaconda3\\envs\\py3_env\\lib\\site-packages\\pandas\\core\\indexes\\base.py\u001b[0m in \u001b[0;36mget_loc\u001b[1;34m(self, key, method, tolerance)\u001b[0m\n\u001b[0;32m   3360\u001b[0m             \u001b[1;32mtry\u001b[0m\u001b[1;33m:\u001b[0m\u001b[1;33m\u001b[0m\u001b[1;33m\u001b[0m\u001b[0m\n\u001b[1;32m-> 3361\u001b[1;33m                 \u001b[1;32mreturn\u001b[0m \u001b[0mself\u001b[0m\u001b[1;33m.\u001b[0m\u001b[0m_engine\u001b[0m\u001b[1;33m.\u001b[0m\u001b[0mget_loc\u001b[0m\u001b[1;33m(\u001b[0m\u001b[0mcasted_key\u001b[0m\u001b[1;33m)\u001b[0m\u001b[1;33m\u001b[0m\u001b[1;33m\u001b[0m\u001b[0m\n\u001b[0m\u001b[0;32m   3362\u001b[0m             \u001b[1;32mexcept\u001b[0m \u001b[0mKeyError\u001b[0m \u001b[1;32mas\u001b[0m \u001b[0merr\u001b[0m\u001b[1;33m:\u001b[0m\u001b[1;33m\u001b[0m\u001b[1;33m\u001b[0m\u001b[0m\n",
      "\u001b[1;32m~\\anaconda3\\envs\\py3_env\\lib\\site-packages\\pandas\\_libs\\index.pyx\u001b[0m in \u001b[0;36mpandas._libs.index.IndexEngine.get_loc\u001b[1;34m()\u001b[0m\n",
      "\u001b[1;32m~\\anaconda3\\envs\\py3_env\\lib\\site-packages\\pandas\\_libs\\index.pyx\u001b[0m in \u001b[0;36mpandas._libs.index.IndexEngine.get_loc\u001b[1;34m()\u001b[0m\n",
      "\u001b[1;32mpandas\\_libs\\hashtable_class_helper.pxi\u001b[0m in \u001b[0;36mpandas._libs.hashtable.PyObjectHashTable.get_item\u001b[1;34m()\u001b[0m\n",
      "\u001b[1;32mpandas\\_libs\\hashtable_class_helper.pxi\u001b[0m in \u001b[0;36mpandas._libs.hashtable.PyObjectHashTable.get_item\u001b[1;34m()\u001b[0m\n",
      "\u001b[1;31mKeyError\u001b[0m: 'air_polution_score'",
      "\nThe above exception was the direct cause of the following exception:\n",
      "\u001b[1;31mKeyError\u001b[0m                                  Traceback (most recent call last)",
      "\u001b[1;32m~\\AppData\\Local\\Temp/ipykernel_4896/805962935.py\u001b[0m in \u001b[0;36m<module>\u001b[1;34m\u001b[0m\n\u001b[0;32m      2\u001b[0m \u001b[1;31m# 2008 air_pollution_score column to float -- this won't work\u001b[0m\u001b[1;33m\u001b[0m\u001b[1;33m\u001b[0m\u001b[1;33m\u001b[0m\u001b[0m\n\u001b[0;32m      3\u001b[0m \u001b[0mdf_08\u001b[0m\u001b[1;33m.\u001b[0m\u001b[0minfo\u001b[0m\u001b[1;33m(\u001b[0m\u001b[1;33m)\u001b[0m\u001b[1;33m\u001b[0m\u001b[1;33m\u001b[0m\u001b[0m\n\u001b[1;32m----> 4\u001b[1;33m \u001b[0mdf_08\u001b[0m\u001b[1;33m[\u001b[0m\u001b[1;34m'air_polution_score'\u001b[0m\u001b[1;33m]\u001b[0m \u001b[1;33m=\u001b[0m \u001b[0mdf_08\u001b[0m\u001b[1;33m[\u001b[0m\u001b[1;34m'air_polution_score'\u001b[0m\u001b[1;33m]\u001b[0m\u001b[1;33m.\u001b[0m\u001b[0mstr\u001b[0m\u001b[1;33m.\u001b[0m\u001b[0mextract\u001b[0m\u001b[1;33m(\u001b[0m\u001b[1;34m'(\\d+)'\u001b[0m\u001b[1;33m)\u001b[0m\u001b[1;33m.\u001b[0m\u001b[0mastype\u001b[0m\u001b[1;33m(\u001b[0m\u001b[0mfloat\u001b[0m\u001b[1;33m)\u001b[0m\u001b[1;33m\u001b[0m\u001b[1;33m\u001b[0m\u001b[0m\n\u001b[0m",
      "\u001b[1;32m~\\anaconda3\\envs\\py3_env\\lib\\site-packages\\pandas\\core\\frame.py\u001b[0m in \u001b[0;36m__getitem__\u001b[1;34m(self, key)\u001b[0m\n\u001b[0;32m   3456\u001b[0m             \u001b[1;32mif\u001b[0m \u001b[0mself\u001b[0m\u001b[1;33m.\u001b[0m\u001b[0mcolumns\u001b[0m\u001b[1;33m.\u001b[0m\u001b[0mnlevels\u001b[0m \u001b[1;33m>\u001b[0m \u001b[1;36m1\u001b[0m\u001b[1;33m:\u001b[0m\u001b[1;33m\u001b[0m\u001b[1;33m\u001b[0m\u001b[0m\n\u001b[0;32m   3457\u001b[0m                 \u001b[1;32mreturn\u001b[0m \u001b[0mself\u001b[0m\u001b[1;33m.\u001b[0m\u001b[0m_getitem_multilevel\u001b[0m\u001b[1;33m(\u001b[0m\u001b[0mkey\u001b[0m\u001b[1;33m)\u001b[0m\u001b[1;33m\u001b[0m\u001b[1;33m\u001b[0m\u001b[0m\n\u001b[1;32m-> 3458\u001b[1;33m             \u001b[0mindexer\u001b[0m \u001b[1;33m=\u001b[0m \u001b[0mself\u001b[0m\u001b[1;33m.\u001b[0m\u001b[0mcolumns\u001b[0m\u001b[1;33m.\u001b[0m\u001b[0mget_loc\u001b[0m\u001b[1;33m(\u001b[0m\u001b[0mkey\u001b[0m\u001b[1;33m)\u001b[0m\u001b[1;33m\u001b[0m\u001b[1;33m\u001b[0m\u001b[0m\n\u001b[0m\u001b[0;32m   3459\u001b[0m             \u001b[1;32mif\u001b[0m \u001b[0mis_integer\u001b[0m\u001b[1;33m(\u001b[0m\u001b[0mindexer\u001b[0m\u001b[1;33m)\u001b[0m\u001b[1;33m:\u001b[0m\u001b[1;33m\u001b[0m\u001b[1;33m\u001b[0m\u001b[0m\n\u001b[0;32m   3460\u001b[0m                 \u001b[0mindexer\u001b[0m \u001b[1;33m=\u001b[0m \u001b[1;33m[\u001b[0m\u001b[0mindexer\u001b[0m\u001b[1;33m]\u001b[0m\u001b[1;33m\u001b[0m\u001b[1;33m\u001b[0m\u001b[0m\n",
      "\u001b[1;32m~\\anaconda3\\envs\\py3_env\\lib\\site-packages\\pandas\\core\\indexes\\base.py\u001b[0m in \u001b[0;36mget_loc\u001b[1;34m(self, key, method, tolerance)\u001b[0m\n\u001b[0;32m   3361\u001b[0m                 \u001b[1;32mreturn\u001b[0m \u001b[0mself\u001b[0m\u001b[1;33m.\u001b[0m\u001b[0m_engine\u001b[0m\u001b[1;33m.\u001b[0m\u001b[0mget_loc\u001b[0m\u001b[1;33m(\u001b[0m\u001b[0mcasted_key\u001b[0m\u001b[1;33m)\u001b[0m\u001b[1;33m\u001b[0m\u001b[1;33m\u001b[0m\u001b[0m\n\u001b[0;32m   3362\u001b[0m             \u001b[1;32mexcept\u001b[0m \u001b[0mKeyError\u001b[0m \u001b[1;32mas\u001b[0m \u001b[0merr\u001b[0m\u001b[1;33m:\u001b[0m\u001b[1;33m\u001b[0m\u001b[1;33m\u001b[0m\u001b[0m\n\u001b[1;32m-> 3363\u001b[1;33m                 \u001b[1;32mraise\u001b[0m \u001b[0mKeyError\u001b[0m\u001b[1;33m(\u001b[0m\u001b[0mkey\u001b[0m\u001b[1;33m)\u001b[0m \u001b[1;32mfrom\u001b[0m \u001b[0merr\u001b[0m\u001b[1;33m\u001b[0m\u001b[1;33m\u001b[0m\u001b[0m\n\u001b[0m\u001b[0;32m   3364\u001b[0m \u001b[1;33m\u001b[0m\u001b[0m\n\u001b[0;32m   3365\u001b[0m         \u001b[1;32mif\u001b[0m \u001b[0mis_scalar\u001b[0m\u001b[1;33m(\u001b[0m\u001b[0mkey\u001b[0m\u001b[1;33m)\u001b[0m \u001b[1;32mand\u001b[0m \u001b[0misna\u001b[0m\u001b[1;33m(\u001b[0m\u001b[0mkey\u001b[0m\u001b[1;33m)\u001b[0m \u001b[1;32mand\u001b[0m \u001b[1;32mnot\u001b[0m \u001b[0mself\u001b[0m\u001b[1;33m.\u001b[0m\u001b[0mhasnans\u001b[0m\u001b[1;33m:\u001b[0m\u001b[1;33m\u001b[0m\u001b[1;33m\u001b[0m\u001b[0m\n",
      "\u001b[1;31mKeyError\u001b[0m: 'air_polution_score'"
     ]
    }
   ],
   "source": [
    "# try using pandas' to_numeric or astype function to convert the\n",
    "# 2008 air_pollution_score column to float -- this won't work\n",
    "df_08.info()\n",
    "df_08['air_pollution_score'] = df_08['air_pollution_score'].str.extract('(\\d+)').astype(float)"
   ]
  },
  {
   "cell_type": "markdown",
   "id": "0dfe9d82",
   "metadata": {},
   "source": [
    "# Figuring out the issue\n",
    "Looks like this isn't going to be as simple as converting the datatype. According to the error above, the air pollution score value in one of the rows is \"6/4\" - let's check it out."
   ]
  },
  {
   "cell_type": "code",
   "execution_count": 151,
   "id": "0fd44c43",
   "metadata": {},
   "outputs": [
    {
     "data": {
      "text/html": [
       "<div>\n",
       "<style scoped>\n",
       "    .dataframe tbody tr th:only-of-type {\n",
       "        vertical-align: middle;\n",
       "    }\n",
       "\n",
       "    .dataframe tbody tr th {\n",
       "        vertical-align: top;\n",
       "    }\n",
       "\n",
       "    .dataframe thead th {\n",
       "        text-align: right;\n",
       "    }\n",
       "</style>\n",
       "<table border=\"1\" class=\"dataframe\">\n",
       "  <thead>\n",
       "    <tr style=\"text-align: right;\">\n",
       "      <th></th>\n",
       "      <th>model</th>\n",
       "      <th>displ</th>\n",
       "      <th>cyl</th>\n",
       "      <th>trans</th>\n",
       "      <th>drive</th>\n",
       "      <th>fuel</th>\n",
       "      <th>veh_class</th>\n",
       "      <th>air_pollution_score</th>\n",
       "      <th>city_mpg</th>\n",
       "      <th>hwy_mpg</th>\n",
       "      <th>cmb_mpg</th>\n",
       "      <th>greenhouse_gas_score</th>\n",
       "      <th>smartway</th>\n",
       "    </tr>\n",
       "  </thead>\n",
       "  <tbody>\n",
       "    <tr>\n",
       "      <th>582</th>\n",
       "      <td>MERCEDES-BENZ C300</td>\n",
       "      <td>3.0</td>\n",
       "      <td>6</td>\n",
       "      <td>Auto-L7</td>\n",
       "      <td>2WD</td>\n",
       "      <td>ethanol/gas</td>\n",
       "      <td>small car</td>\n",
       "      <td>6/4</td>\n",
       "      <td>13/18</td>\n",
       "      <td>19/25</td>\n",
       "      <td>15/21</td>\n",
       "      <td>7/6</td>\n",
       "      <td>no</td>\n",
       "    </tr>\n",
       "  </tbody>\n",
       "</table>\n",
       "</div>"
      ],
      "text/plain": [
       "                  model  displ  cyl    trans drive         fuel  veh_class  \\\n",
       "582  MERCEDES-BENZ C300    3.0    6  Auto-L7   2WD  ethanol/gas  small car   \n",
       "\n",
       "    air_pollution_score city_mpg hwy_mpg cmb_mpg greenhouse_gas_score smartway  \n",
       "582                 6/4    13/18   19/25   15/21                  7/6       no  "
      ]
     },
     "execution_count": 151,
     "metadata": {},
     "output_type": "execute_result"
    }
   ],
   "source": [
    "df_08[df_08.air_pollution_score == '6/4']"
   ]
  },
  {
   "cell_type": "markdown",
   "id": "e43c376c",
   "metadata": {},
   "source": [
    "# It's not just the air pollution score!\n",
    "The mpg columns and greenhouse gas scores also seem to have the same problem - maybe that's why these were all saved as strings! According to [this link](http://www.fueleconomy.gov/feg/findacarhelp.shtml#airPollutionScore), which I found from the PDF documentation:\n",
    "\n",
    "    \"If a vehicle can operate on more than one type of fuel, an estimate is provided for each fuel type.\"\n",
    "    \n",
    "Ohh... so all vehicles with more than one fuel type, or hybrids, like the one above (it uses ethanol AND gas) will have a string that holds two values - one for each. This is a little tricky, so I'm going to show you how to do it with the 2008 dataset, and then you'll try it with the 2018 dataset."
   ]
  },
  {
   "cell_type": "code",
   "execution_count": 152,
   "id": "0705b5e8",
   "metadata": {},
   "outputs": [
    {
     "data": {
      "text/html": [
       "<div>\n",
       "<style scoped>\n",
       "    .dataframe tbody tr th:only-of-type {\n",
       "        vertical-align: middle;\n",
       "    }\n",
       "\n",
       "    .dataframe tbody tr th {\n",
       "        vertical-align: top;\n",
       "    }\n",
       "\n",
       "    .dataframe thead th {\n",
       "        text-align: right;\n",
       "    }\n",
       "</style>\n",
       "<table border=\"1\" class=\"dataframe\">\n",
       "  <thead>\n",
       "    <tr style=\"text-align: right;\">\n",
       "      <th></th>\n",
       "      <th>model</th>\n",
       "      <th>displ</th>\n",
       "      <th>cyl</th>\n",
       "      <th>trans</th>\n",
       "      <th>drive</th>\n",
       "      <th>fuel</th>\n",
       "      <th>veh_class</th>\n",
       "      <th>air_pollution_score</th>\n",
       "      <th>city_mpg</th>\n",
       "      <th>hwy_mpg</th>\n",
       "      <th>cmb_mpg</th>\n",
       "      <th>greenhouse_gas_score</th>\n",
       "      <th>smartway</th>\n",
       "    </tr>\n",
       "  </thead>\n",
       "  <tbody>\n",
       "    <tr>\n",
       "      <th>582</th>\n",
       "      <td>MERCEDES-BENZ C300</td>\n",
       "      <td>3.0</td>\n",
       "      <td>6</td>\n",
       "      <td>Auto-L7</td>\n",
       "      <td>2WD</td>\n",
       "      <td>ethanol/gas</td>\n",
       "      <td>small car</td>\n",
       "      <td>6/4</td>\n",
       "      <td>13/18</td>\n",
       "      <td>19/25</td>\n",
       "      <td>15/21</td>\n",
       "      <td>7/6</td>\n",
       "      <td>no</td>\n",
       "    </tr>\n",
       "  </tbody>\n",
       "</table>\n",
       "</div>"
      ],
      "text/plain": [
       "                  model  displ  cyl    trans drive         fuel  veh_class  \\\n",
       "582  MERCEDES-BENZ C300    3.0    6  Auto-L7   2WD  ethanol/gas  small car   \n",
       "\n",
       "    air_pollution_score city_mpg hwy_mpg cmb_mpg greenhouse_gas_score smartway  \n",
       "582                 6/4    13/18   19/25   15/21                  7/6       no  "
      ]
     },
     "execution_count": 152,
     "metadata": {},
     "output_type": "execute_result"
    }
   ],
   "source": [
    "# First, let's get all the hybrids in 2008\n",
    "hb_08 = df_08[df_08['fuel'].str.contains('/')]\n",
    "hb_08"
   ]
  },
  {
   "cell_type": "markdown",
   "id": "acd53be7",
   "metadata": {},
   "source": [
    "Looks like this dataset only has one! The 2018 has MANY more - but don't worry - the steps I'm taking here will work for that as well!"
   ]
  },
  {
   "cell_type": "code",
   "execution_count": 153,
   "id": "6e892e76",
   "metadata": {},
   "outputs": [
    {
     "data": {
      "text/html": [
       "<div>\n",
       "<style scoped>\n",
       "    .dataframe tbody tr th:only-of-type {\n",
       "        vertical-align: middle;\n",
       "    }\n",
       "\n",
       "    .dataframe tbody tr th {\n",
       "        vertical-align: top;\n",
       "    }\n",
       "\n",
       "    .dataframe thead th {\n",
       "        text-align: right;\n",
       "    }\n",
       "</style>\n",
       "<table border=\"1\" class=\"dataframe\">\n",
       "  <thead>\n",
       "    <tr style=\"text-align: right;\">\n",
       "      <th></th>\n",
       "      <th>model</th>\n",
       "      <th>displ</th>\n",
       "      <th>cyl</th>\n",
       "      <th>trans</th>\n",
       "      <th>drive</th>\n",
       "      <th>fuel</th>\n",
       "      <th>veh_class</th>\n",
       "      <th>air_pollution_score</th>\n",
       "      <th>city_mpg</th>\n",
       "      <th>hwy_mpg</th>\n",
       "      <th>cmb_mpg</th>\n",
       "      <th>greenhouse_gas_score</th>\n",
       "      <th>smartway</th>\n",
       "    </tr>\n",
       "  </thead>\n",
       "  <tbody>\n",
       "    <tr>\n",
       "      <th>52</th>\n",
       "      <td>BMW 330e</td>\n",
       "      <td>2.0</td>\n",
       "      <td>4</td>\n",
       "      <td>SemiAuto-8</td>\n",
       "      <td>2WD</td>\n",
       "      <td>Gasoline/Electricity</td>\n",
       "      <td>small car</td>\n",
       "      <td>3</td>\n",
       "      <td>28/66</td>\n",
       "      <td>34/78</td>\n",
       "      <td>30/71</td>\n",
       "      <td>10</td>\n",
       "      <td>Yes</td>\n",
       "    </tr>\n",
       "    <tr>\n",
       "      <th>78</th>\n",
       "      <td>BMW 530e</td>\n",
       "      <td>2.0</td>\n",
       "      <td>4</td>\n",
       "      <td>SemiAuto-8</td>\n",
       "      <td>2WD</td>\n",
       "      <td>Gasoline/Electricity</td>\n",
       "      <td>small car</td>\n",
       "      <td>7</td>\n",
       "      <td>27/70</td>\n",
       "      <td>31/75</td>\n",
       "      <td>29/72</td>\n",
       "      <td>10</td>\n",
       "      <td>Elite</td>\n",
       "    </tr>\n",
       "    <tr>\n",
       "      <th>79</th>\n",
       "      <td>BMW 530e</td>\n",
       "      <td>2.0</td>\n",
       "      <td>4</td>\n",
       "      <td>SemiAuto-8</td>\n",
       "      <td>4WD</td>\n",
       "      <td>Gasoline/Electricity</td>\n",
       "      <td>small car</td>\n",
       "      <td>7</td>\n",
       "      <td>27/66</td>\n",
       "      <td>31/68</td>\n",
       "      <td>28/67</td>\n",
       "      <td>10</td>\n",
       "      <td>Elite</td>\n",
       "    </tr>\n",
       "    <tr>\n",
       "      <th>92</th>\n",
       "      <td>BMW 740e</td>\n",
       "      <td>2.0</td>\n",
       "      <td>4</td>\n",
       "      <td>SemiAuto-8</td>\n",
       "      <td>4WD</td>\n",
       "      <td>Gasoline/Electricity</td>\n",
       "      <td>large car</td>\n",
       "      <td>3</td>\n",
       "      <td>25/62</td>\n",
       "      <td>29/68</td>\n",
       "      <td>27/64</td>\n",
       "      <td>9</td>\n",
       "      <td>Yes</td>\n",
       "    </tr>\n",
       "    <tr>\n",
       "      <th>189</th>\n",
       "      <td>CHEVROLET Impala</td>\n",
       "      <td>3.6</td>\n",
       "      <td>6</td>\n",
       "      <td>SemiAuto-6</td>\n",
       "      <td>2WD</td>\n",
       "      <td>Ethanol/Gas</td>\n",
       "      <td>large car</td>\n",
       "      <td>5</td>\n",
       "      <td>14/18</td>\n",
       "      <td>20/28</td>\n",
       "      <td>16/22</td>\n",
       "      <td>4</td>\n",
       "      <td>No</td>\n",
       "    </tr>\n",
       "    <tr>\n",
       "      <th>195</th>\n",
       "      <td>CHEVROLET Silverado 15</td>\n",
       "      <td>4.3</td>\n",
       "      <td>6</td>\n",
       "      <td>Auto-6</td>\n",
       "      <td>2WD</td>\n",
       "      <td>Ethanol/Gas</td>\n",
       "      <td>pickup</td>\n",
       "      <td>5</td>\n",
       "      <td>12/18</td>\n",
       "      <td>16/24</td>\n",
       "      <td>14/20</td>\n",
       "      <td>4</td>\n",
       "      <td>No</td>\n",
       "    </tr>\n",
       "    <tr>\n",
       "      <th>196</th>\n",
       "      <td>CHEVROLET Silverado 15</td>\n",
       "      <td>4.3</td>\n",
       "      <td>6</td>\n",
       "      <td>Auto-6</td>\n",
       "      <td>4WD</td>\n",
       "      <td>Ethanol/Gas</td>\n",
       "      <td>pickup</td>\n",
       "      <td>5</td>\n",
       "      <td>12/17</td>\n",
       "      <td>15/22</td>\n",
       "      <td>13/19</td>\n",
       "      <td>3</td>\n",
       "      <td>No</td>\n",
       "    </tr>\n",
       "    <tr>\n",
       "      <th>197</th>\n",
       "      <td>CHEVROLET Silverado 15</td>\n",
       "      <td>5.3</td>\n",
       "      <td>8</td>\n",
       "      <td>Auto-6</td>\n",
       "      <td>2WD</td>\n",
       "      <td>Ethanol/Gas</td>\n",
       "      <td>pickup</td>\n",
       "      <td>3</td>\n",
       "      <td>12/16</td>\n",
       "      <td>17/23</td>\n",
       "      <td>14/19</td>\n",
       "      <td>3</td>\n",
       "      <td>No</td>\n",
       "    </tr>\n",
       "    <tr>\n",
       "      <th>212</th>\n",
       "      <td>CHEVROLET Suburban 1500</td>\n",
       "      <td>5.3</td>\n",
       "      <td>8</td>\n",
       "      <td>Auto-6</td>\n",
       "      <td>2WD</td>\n",
       "      <td>Ethanol/Gas</td>\n",
       "      <td>standard SUV</td>\n",
       "      <td>3</td>\n",
       "      <td>12/16</td>\n",
       "      <td>17/23</td>\n",
       "      <td>14/19</td>\n",
       "      <td>3</td>\n",
       "      <td>No</td>\n",
       "    </tr>\n",
       "    <tr>\n",
       "      <th>214</th>\n",
       "      <td>CHEVROLET Suburban 1500</td>\n",
       "      <td>5.3</td>\n",
       "      <td>8</td>\n",
       "      <td>Auto-6</td>\n",
       "      <td>4WD</td>\n",
       "      <td>Ethanol/Gas</td>\n",
       "      <td>standard SUV</td>\n",
       "      <td>3</td>\n",
       "      <td>11/16</td>\n",
       "      <td>15/22</td>\n",
       "      <td>12/18</td>\n",
       "      <td>3</td>\n",
       "      <td>No</td>\n",
       "    </tr>\n",
       "    <tr>\n",
       "      <th>216</th>\n",
       "      <td>CHEVROLET Tahoe 1500</td>\n",
       "      <td>5.3</td>\n",
       "      <td>8</td>\n",
       "      <td>Auto-6</td>\n",
       "      <td>2WD</td>\n",
       "      <td>Ethanol/Gas</td>\n",
       "      <td>standard SUV</td>\n",
       "      <td>3</td>\n",
       "      <td>12/16</td>\n",
       "      <td>17/23</td>\n",
       "      <td>14/19</td>\n",
       "      <td>3</td>\n",
       "      <td>No</td>\n",
       "    </tr>\n",
       "    <tr>\n",
       "      <th>218</th>\n",
       "      <td>CHEVROLET Tahoe 1500</td>\n",
       "      <td>5.3</td>\n",
       "      <td>8</td>\n",
       "      <td>Auto-6</td>\n",
       "      <td>4WD</td>\n",
       "      <td>Ethanol/Gas</td>\n",
       "      <td>standard SUV</td>\n",
       "      <td>3</td>\n",
       "      <td>11/16</td>\n",
       "      <td>16/22</td>\n",
       "      <td>13/18</td>\n",
       "      <td>3</td>\n",
       "      <td>No</td>\n",
       "    </tr>\n",
       "    <tr>\n",
       "      <th>225</th>\n",
       "      <td>CHEVROLET Volt</td>\n",
       "      <td>1.5</td>\n",
       "      <td>4</td>\n",
       "      <td>CVT</td>\n",
       "      <td>2WD</td>\n",
       "      <td>Gasoline/Electricity</td>\n",
       "      <td>small car</td>\n",
       "      <td>3</td>\n",
       "      <td>43/113</td>\n",
       "      <td>42/99</td>\n",
       "      <td>42/106</td>\n",
       "      <td>10</td>\n",
       "      <td>Yes</td>\n",
       "    </tr>\n",
       "    <tr>\n",
       "      <th>226</th>\n",
       "      <td>CHEVROLET Volt</td>\n",
       "      <td>1.5</td>\n",
       "      <td>4</td>\n",
       "      <td>CVT</td>\n",
       "      <td>2WD</td>\n",
       "      <td>Gasoline/Electricity</td>\n",
       "      <td>small car</td>\n",
       "      <td>7</td>\n",
       "      <td>43/113</td>\n",
       "      <td>42/99</td>\n",
       "      <td>42/106</td>\n",
       "      <td>10</td>\n",
       "      <td>Elite</td>\n",
       "    </tr>\n",
       "    <tr>\n",
       "      <th>227</th>\n",
       "      <td>CHRYSLER 300</td>\n",
       "      <td>3.6</td>\n",
       "      <td>6</td>\n",
       "      <td>Auto-8</td>\n",
       "      <td>2WD</td>\n",
       "      <td>Ethanol/Gas</td>\n",
       "      <td>large car</td>\n",
       "      <td>3</td>\n",
       "      <td>14/19</td>\n",
       "      <td>22/30</td>\n",
       "      <td>17/23</td>\n",
       "      <td>5</td>\n",
       "      <td>No</td>\n",
       "    </tr>\n",
       "    <tr>\n",
       "      <th>229</th>\n",
       "      <td>CHRYSLER 300</td>\n",
       "      <td>3.6</td>\n",
       "      <td>6</td>\n",
       "      <td>Auto-8</td>\n",
       "      <td>4WD</td>\n",
       "      <td>Ethanol/Gas</td>\n",
       "      <td>large car</td>\n",
       "      <td>3</td>\n",
       "      <td>13/18</td>\n",
       "      <td>20/27</td>\n",
       "      <td>16/21</td>\n",
       "      <td>4</td>\n",
       "      <td>No</td>\n",
       "    </tr>\n",
       "    <tr>\n",
       "      <th>244</th>\n",
       "      <td>DODGE Charger</td>\n",
       "      <td>3.6</td>\n",
       "      <td>6</td>\n",
       "      <td>Auto-8</td>\n",
       "      <td>2WD</td>\n",
       "      <td>Ethanol/Gas</td>\n",
       "      <td>large car</td>\n",
       "      <td>3</td>\n",
       "      <td>14/19</td>\n",
       "      <td>22/30</td>\n",
       "      <td>17/23</td>\n",
       "      <td>5</td>\n",
       "      <td>No</td>\n",
       "    </tr>\n",
       "    <tr>\n",
       "      <th>246</th>\n",
       "      <td>DODGE Charger</td>\n",
       "      <td>3.6</td>\n",
       "      <td>6</td>\n",
       "      <td>Auto-8</td>\n",
       "      <td>4WD</td>\n",
       "      <td>Ethanol/Gas</td>\n",
       "      <td>large car</td>\n",
       "      <td>3</td>\n",
       "      <td>13/18</td>\n",
       "      <td>20/27</td>\n",
       "      <td>16/21</td>\n",
       "      <td>4</td>\n",
       "      <td>No</td>\n",
       "    </tr>\n",
       "    <tr>\n",
       "      <th>300</th>\n",
       "      <td>FORD Fusion Energi Plug-in Hybrid</td>\n",
       "      <td>2.0</td>\n",
       "      <td>4</td>\n",
       "      <td>CVT</td>\n",
       "      <td>2WD</td>\n",
       "      <td>Gasoline/Electricity</td>\n",
       "      <td>midsize car</td>\n",
       "      <td>7</td>\n",
       "      <td>43/102</td>\n",
       "      <td>41/91</td>\n",
       "      <td>42/97</td>\n",
       "      <td>10</td>\n",
       "      <td>Elite</td>\n",
       "    </tr>\n",
       "    <tr>\n",
       "      <th>326</th>\n",
       "      <td>GMC Sierra 15</td>\n",
       "      <td>4.3</td>\n",
       "      <td>6</td>\n",
       "      <td>Auto-6</td>\n",
       "      <td>2WD</td>\n",
       "      <td>Ethanol/Gas</td>\n",
       "      <td>pickup</td>\n",
       "      <td>5</td>\n",
       "      <td>12/18</td>\n",
       "      <td>16/24</td>\n",
       "      <td>14/20</td>\n",
       "      <td>4</td>\n",
       "      <td>No</td>\n",
       "    </tr>\n",
       "    <tr>\n",
       "      <th>327</th>\n",
       "      <td>GMC Sierra 15</td>\n",
       "      <td>4.3</td>\n",
       "      <td>6</td>\n",
       "      <td>Auto-6</td>\n",
       "      <td>4WD</td>\n",
       "      <td>Ethanol/Gas</td>\n",
       "      <td>pickup</td>\n",
       "      <td>5</td>\n",
       "      <td>12/17</td>\n",
       "      <td>15/22</td>\n",
       "      <td>13/19</td>\n",
       "      <td>3</td>\n",
       "      <td>No</td>\n",
       "    </tr>\n",
       "    <tr>\n",
       "      <th>328</th>\n",
       "      <td>GMC Sierra 15</td>\n",
       "      <td>5.3</td>\n",
       "      <td>8</td>\n",
       "      <td>Auto-6</td>\n",
       "      <td>2WD</td>\n",
       "      <td>Ethanol/Gas</td>\n",
       "      <td>pickup</td>\n",
       "      <td>3</td>\n",
       "      <td>12/16</td>\n",
       "      <td>17/23</td>\n",
       "      <td>14/19</td>\n",
       "      <td>3</td>\n",
       "      <td>No</td>\n",
       "    </tr>\n",
       "    <tr>\n",
       "      <th>345</th>\n",
       "      <td>GMC Yukon 1500</td>\n",
       "      <td>5.3</td>\n",
       "      <td>8</td>\n",
       "      <td>Auto-6</td>\n",
       "      <td>2WD</td>\n",
       "      <td>Ethanol/Gas</td>\n",
       "      <td>standard SUV</td>\n",
       "      <td>3</td>\n",
       "      <td>12/16</td>\n",
       "      <td>17/23</td>\n",
       "      <td>14/19</td>\n",
       "      <td>3</td>\n",
       "      <td>No</td>\n",
       "    </tr>\n",
       "    <tr>\n",
       "      <th>347</th>\n",
       "      <td>GMC Yukon 1500</td>\n",
       "      <td>5.3</td>\n",
       "      <td>8</td>\n",
       "      <td>Auto-6</td>\n",
       "      <td>4WD</td>\n",
       "      <td>Ethanol/Gas</td>\n",
       "      <td>standard SUV</td>\n",
       "      <td>3</td>\n",
       "      <td>11/16</td>\n",
       "      <td>16/22</td>\n",
       "      <td>13/18</td>\n",
       "      <td>3</td>\n",
       "      <td>No</td>\n",
       "    </tr>\n",
       "    <tr>\n",
       "      <th>351</th>\n",
       "      <td>GMC Yukon 1500 XL</td>\n",
       "      <td>5.3</td>\n",
       "      <td>8</td>\n",
       "      <td>Auto-6</td>\n",
       "      <td>2WD</td>\n",
       "      <td>Ethanol/Gas</td>\n",
       "      <td>standard SUV</td>\n",
       "      <td>3</td>\n",
       "      <td>12/16</td>\n",
       "      <td>17/23</td>\n",
       "      <td>14/19</td>\n",
       "      <td>3</td>\n",
       "      <td>No</td>\n",
       "    </tr>\n",
       "    <tr>\n",
       "      <th>354</th>\n",
       "      <td>GMC Yukon XL 1500</td>\n",
       "      <td>5.3</td>\n",
       "      <td>8</td>\n",
       "      <td>Auto-6</td>\n",
       "      <td>4WD</td>\n",
       "      <td>Ethanol/Gas</td>\n",
       "      <td>standard SUV</td>\n",
       "      <td>3</td>\n",
       "      <td>11/16</td>\n",
       "      <td>15/22</td>\n",
       "      <td>12/18</td>\n",
       "      <td>3</td>\n",
       "      <td>No</td>\n",
       "    </tr>\n",
       "    <tr>\n",
       "      <th>442</th>\n",
       "      <td>JEEP Cherokee</td>\n",
       "      <td>2.4</td>\n",
       "      <td>4</td>\n",
       "      <td>Auto-9</td>\n",
       "      <td>2WD</td>\n",
       "      <td>Ethanol/Gas</td>\n",
       "      <td>small SUV</td>\n",
       "      <td>3</td>\n",
       "      <td>15/21</td>\n",
       "      <td>22/30</td>\n",
       "      <td>18/25</td>\n",
       "      <td>5</td>\n",
       "      <td>No</td>\n",
       "    </tr>\n",
       "    <tr>\n",
       "      <th>444</th>\n",
       "      <td>JEEP Cherokee</td>\n",
       "      <td>2.4</td>\n",
       "      <td>4</td>\n",
       "      <td>Auto-9</td>\n",
       "      <td>4WD</td>\n",
       "      <td>Ethanol/Gas</td>\n",
       "      <td>small SUV</td>\n",
       "      <td>3</td>\n",
       "      <td>14/21</td>\n",
       "      <td>21/28</td>\n",
       "      <td>17/23</td>\n",
       "      <td>5</td>\n",
       "      <td>No</td>\n",
       "    </tr>\n",
       "    <tr>\n",
       "      <th>462</th>\n",
       "      <td>KARMA Revero</td>\n",
       "      <td>2.0</td>\n",
       "      <td>4</td>\n",
       "      <td>Auto-1</td>\n",
       "      <td>2WD</td>\n",
       "      <td>Gasoline/Electricity</td>\n",
       "      <td>small car</td>\n",
       "      <td>1</td>\n",
       "      <td>20/59</td>\n",
       "      <td>21/61</td>\n",
       "      <td>20/60</td>\n",
       "      <td>10</td>\n",
       "      <td>No</td>\n",
       "    </tr>\n",
       "    <tr>\n",
       "      <th>571</th>\n",
       "      <td>MERCEDES-BENZ CLA250 4Matic</td>\n",
       "      <td>2.0</td>\n",
       "      <td>4</td>\n",
       "      <td>AutoMan-7</td>\n",
       "      <td>4WD</td>\n",
       "      <td>Ethanol/Gas</td>\n",
       "      <td>small car</td>\n",
       "      <td>5</td>\n",
       "      <td>17/24</td>\n",
       "      <td>24/32</td>\n",
       "      <td>20/27</td>\n",
       "      <td>6</td>\n",
       "      <td>No</td>\n",
       "    </tr>\n",
       "    <tr>\n",
       "      <th>578</th>\n",
       "      <td>MERCEDES-BENZ GLA250 4Matic</td>\n",
       "      <td>2.0</td>\n",
       "      <td>4</td>\n",
       "      <td>AutoMan-7</td>\n",
       "      <td>4WD</td>\n",
       "      <td>Ethanol/Gas</td>\n",
       "      <td>small SUV</td>\n",
       "      <td>5</td>\n",
       "      <td>17/23</td>\n",
       "      <td>23/31</td>\n",
       "      <td>19/26</td>\n",
       "      <td>5</td>\n",
       "      <td>No</td>\n",
       "    </tr>\n",
       "    <tr>\n",
       "      <th>584</th>\n",
       "      <td>MERCEDES-BENZ GLE350 4Matic</td>\n",
       "      <td>3.5</td>\n",
       "      <td>6</td>\n",
       "      <td>Auto-7</td>\n",
       "      <td>4WD</td>\n",
       "      <td>Ethanol/Gas</td>\n",
       "      <td>standard SUV</td>\n",
       "      <td>3</td>\n",
       "      <td>13/18</td>\n",
       "      <td>17/22</td>\n",
       "      <td>14/19</td>\n",
       "      <td>3</td>\n",
       "      <td>No</td>\n",
       "    </tr>\n",
       "    <tr>\n",
       "      <th>616</th>\n",
       "      <td>MINI Cooper SE Countryman All4</td>\n",
       "      <td>1.5</td>\n",
       "      <td>3</td>\n",
       "      <td>SemiAuto-6</td>\n",
       "      <td>4WD</td>\n",
       "      <td>Gasoline/Electricity</td>\n",
       "      <td>midsize car</td>\n",
       "      <td>3</td>\n",
       "      <td>28/63</td>\n",
       "      <td>27/66</td>\n",
       "      <td>27/65</td>\n",
       "      <td>9</td>\n",
       "      <td>Yes</td>\n",
       "    </tr>\n",
       "    <tr>\n",
       "      <th>742</th>\n",
       "      <td>TOYOTA Sequoia FFV</td>\n",
       "      <td>5.7</td>\n",
       "      <td>8</td>\n",
       "      <td>SemiAuto-6</td>\n",
       "      <td>4WD</td>\n",
       "      <td>Ethanol/Gas</td>\n",
       "      <td>standard SUV</td>\n",
       "      <td>5</td>\n",
       "      <td>9/13</td>\n",
       "      <td>13/17</td>\n",
       "      <td>10/14</td>\n",
       "      <td>1</td>\n",
       "      <td>No</td>\n",
       "    </tr>\n",
       "    <tr>\n",
       "      <th>747</th>\n",
       "      <td>TOYOTA Tundra FFV</td>\n",
       "      <td>5.7</td>\n",
       "      <td>8</td>\n",
       "      <td>SemiAuto-6</td>\n",
       "      <td>4WD</td>\n",
       "      <td>Ethanol/Gas</td>\n",
       "      <td>pickup</td>\n",
       "      <td>5</td>\n",
       "      <td>9/13</td>\n",
       "      <td>12/17</td>\n",
       "      <td>10/15</td>\n",
       "      <td>2</td>\n",
       "      <td>No</td>\n",
       "    </tr>\n",
       "    <tr>\n",
       "      <th>777</th>\n",
       "      <td>VOLVO S90</td>\n",
       "      <td>2.0</td>\n",
       "      <td>4</td>\n",
       "      <td>SemiAuto-8</td>\n",
       "      <td>4WD</td>\n",
       "      <td>Gasoline/Electricity</td>\n",
       "      <td>midsize car</td>\n",
       "      <td>7</td>\n",
       "      <td>26/70</td>\n",
       "      <td>33/72</td>\n",
       "      <td>29/71</td>\n",
       "      <td>10</td>\n",
       "      <td>Elite</td>\n",
       "    </tr>\n",
       "    <tr>\n",
       "      <th>789</th>\n",
       "      <td>VOLVO XC 60</td>\n",
       "      <td>2.0</td>\n",
       "      <td>4</td>\n",
       "      <td>SemiAuto-8</td>\n",
       "      <td>4WD</td>\n",
       "      <td>Gasoline/Electricity</td>\n",
       "      <td>small SUV</td>\n",
       "      <td>7</td>\n",
       "      <td>26/60</td>\n",
       "      <td>28/58</td>\n",
       "      <td>26/59</td>\n",
       "      <td>10</td>\n",
       "      <td>Elite</td>\n",
       "    </tr>\n",
       "    <tr>\n",
       "      <th>793</th>\n",
       "      <td>VOLVO XC 90</td>\n",
       "      <td>2.0</td>\n",
       "      <td>4</td>\n",
       "      <td>SemiAuto-8</td>\n",
       "      <td>4WD</td>\n",
       "      <td>Gasoline/Electricity</td>\n",
       "      <td>standard SUV</td>\n",
       "      <td>7</td>\n",
       "      <td>26/63</td>\n",
       "      <td>30/61</td>\n",
       "      <td>27/62</td>\n",
       "      <td>10</td>\n",
       "      <td>Elite</td>\n",
       "    </tr>\n",
       "  </tbody>\n",
       "</table>\n",
       "</div>"
      ],
      "text/plain": [
       "                                 model  displ  cyl       trans drive  \\\n",
       "52                            BMW 330e    2.0    4  SemiAuto-8   2WD   \n",
       "78                            BMW 530e    2.0    4  SemiAuto-8   2WD   \n",
       "79                            BMW 530e    2.0    4  SemiAuto-8   4WD   \n",
       "92                            BMW 740e    2.0    4  SemiAuto-8   4WD   \n",
       "189                   CHEVROLET Impala    3.6    6  SemiAuto-6   2WD   \n",
       "195             CHEVROLET Silverado 15    4.3    6      Auto-6   2WD   \n",
       "196             CHEVROLET Silverado 15    4.3    6      Auto-6   4WD   \n",
       "197             CHEVROLET Silverado 15    5.3    8      Auto-6   2WD   \n",
       "212            CHEVROLET Suburban 1500    5.3    8      Auto-6   2WD   \n",
       "214            CHEVROLET Suburban 1500    5.3    8      Auto-6   4WD   \n",
       "216               CHEVROLET Tahoe 1500    5.3    8      Auto-6   2WD   \n",
       "218               CHEVROLET Tahoe 1500    5.3    8      Auto-6   4WD   \n",
       "225                     CHEVROLET Volt    1.5    4         CVT   2WD   \n",
       "226                     CHEVROLET Volt    1.5    4         CVT   2WD   \n",
       "227                       CHRYSLER 300    3.6    6      Auto-8   2WD   \n",
       "229                       CHRYSLER 300    3.6    6      Auto-8   4WD   \n",
       "244                      DODGE Charger    3.6    6      Auto-8   2WD   \n",
       "246                      DODGE Charger    3.6    6      Auto-8   4WD   \n",
       "300  FORD Fusion Energi Plug-in Hybrid    2.0    4         CVT   2WD   \n",
       "326                      GMC Sierra 15    4.3    6      Auto-6   2WD   \n",
       "327                      GMC Sierra 15    4.3    6      Auto-6   4WD   \n",
       "328                      GMC Sierra 15    5.3    8      Auto-6   2WD   \n",
       "345                     GMC Yukon 1500    5.3    8      Auto-6   2WD   \n",
       "347                     GMC Yukon 1500    5.3    8      Auto-6   4WD   \n",
       "351                  GMC Yukon 1500 XL    5.3    8      Auto-6   2WD   \n",
       "354                  GMC Yukon XL 1500    5.3    8      Auto-6   4WD   \n",
       "442                      JEEP Cherokee    2.4    4      Auto-9   2WD   \n",
       "444                      JEEP Cherokee    2.4    4      Auto-9   4WD   \n",
       "462                       KARMA Revero    2.0    4      Auto-1   2WD   \n",
       "571        MERCEDES-BENZ CLA250 4Matic    2.0    4   AutoMan-7   4WD   \n",
       "578        MERCEDES-BENZ GLA250 4Matic    2.0    4   AutoMan-7   4WD   \n",
       "584        MERCEDES-BENZ GLE350 4Matic    3.5    6      Auto-7   4WD   \n",
       "616     MINI Cooper SE Countryman All4    1.5    3  SemiAuto-6   4WD   \n",
       "742                 TOYOTA Sequoia FFV    5.7    8  SemiAuto-6   4WD   \n",
       "747                  TOYOTA Tundra FFV    5.7    8  SemiAuto-6   4WD   \n",
       "777                          VOLVO S90    2.0    4  SemiAuto-8   4WD   \n",
       "789                        VOLVO XC 60    2.0    4  SemiAuto-8   4WD   \n",
       "793                        VOLVO XC 90    2.0    4  SemiAuto-8   4WD   \n",
       "\n",
       "                     fuel     veh_class  air_pollution_score city_mpg hwy_mpg  \\\n",
       "52   Gasoline/Electricity     small car                    3    28/66   34/78   \n",
       "78   Gasoline/Electricity     small car                    7    27/70   31/75   \n",
       "79   Gasoline/Electricity     small car                    7    27/66   31/68   \n",
       "92   Gasoline/Electricity     large car                    3    25/62   29/68   \n",
       "189           Ethanol/Gas     large car                    5    14/18   20/28   \n",
       "195           Ethanol/Gas        pickup                    5    12/18   16/24   \n",
       "196           Ethanol/Gas        pickup                    5    12/17   15/22   \n",
       "197           Ethanol/Gas        pickup                    3    12/16   17/23   \n",
       "212           Ethanol/Gas  standard SUV                    3    12/16   17/23   \n",
       "214           Ethanol/Gas  standard SUV                    3    11/16   15/22   \n",
       "216           Ethanol/Gas  standard SUV                    3    12/16   17/23   \n",
       "218           Ethanol/Gas  standard SUV                    3    11/16   16/22   \n",
       "225  Gasoline/Electricity     small car                    3   43/113   42/99   \n",
       "226  Gasoline/Electricity     small car                    7   43/113   42/99   \n",
       "227           Ethanol/Gas     large car                    3    14/19   22/30   \n",
       "229           Ethanol/Gas     large car                    3    13/18   20/27   \n",
       "244           Ethanol/Gas     large car                    3    14/19   22/30   \n",
       "246           Ethanol/Gas     large car                    3    13/18   20/27   \n",
       "300  Gasoline/Electricity   midsize car                    7   43/102   41/91   \n",
       "326           Ethanol/Gas        pickup                    5    12/18   16/24   \n",
       "327           Ethanol/Gas        pickup                    5    12/17   15/22   \n",
       "328           Ethanol/Gas        pickup                    3    12/16   17/23   \n",
       "345           Ethanol/Gas  standard SUV                    3    12/16   17/23   \n",
       "347           Ethanol/Gas  standard SUV                    3    11/16   16/22   \n",
       "351           Ethanol/Gas  standard SUV                    3    12/16   17/23   \n",
       "354           Ethanol/Gas  standard SUV                    3    11/16   15/22   \n",
       "442           Ethanol/Gas     small SUV                    3    15/21   22/30   \n",
       "444           Ethanol/Gas     small SUV                    3    14/21   21/28   \n",
       "462  Gasoline/Electricity     small car                    1    20/59   21/61   \n",
       "571           Ethanol/Gas     small car                    5    17/24   24/32   \n",
       "578           Ethanol/Gas     small SUV                    5    17/23   23/31   \n",
       "584           Ethanol/Gas  standard SUV                    3    13/18   17/22   \n",
       "616  Gasoline/Electricity   midsize car                    3    28/63   27/66   \n",
       "742           Ethanol/Gas  standard SUV                    5     9/13   13/17   \n",
       "747           Ethanol/Gas        pickup                    5     9/13   12/17   \n",
       "777  Gasoline/Electricity   midsize car                    7    26/70   33/72   \n",
       "789  Gasoline/Electricity     small SUV                    7    26/60   28/58   \n",
       "793  Gasoline/Electricity  standard SUV                    7    26/63   30/61   \n",
       "\n",
       "    cmb_mpg  greenhouse_gas_score smartway  \n",
       "52    30/71                    10      Yes  \n",
       "78    29/72                    10    Elite  \n",
       "79    28/67                    10    Elite  \n",
       "92    27/64                     9      Yes  \n",
       "189   16/22                     4       No  \n",
       "195   14/20                     4       No  \n",
       "196   13/19                     3       No  \n",
       "197   14/19                     3       No  \n",
       "212   14/19                     3       No  \n",
       "214   12/18                     3       No  \n",
       "216   14/19                     3       No  \n",
       "218   13/18                     3       No  \n",
       "225  42/106                    10      Yes  \n",
       "226  42/106                    10    Elite  \n",
       "227   17/23                     5       No  \n",
       "229   16/21                     4       No  \n",
       "244   17/23                     5       No  \n",
       "246   16/21                     4       No  \n",
       "300   42/97                    10    Elite  \n",
       "326   14/20                     4       No  \n",
       "327   13/19                     3       No  \n",
       "328   14/19                     3       No  \n",
       "345   14/19                     3       No  \n",
       "347   13/18                     3       No  \n",
       "351   14/19                     3       No  \n",
       "354   12/18                     3       No  \n",
       "442   18/25                     5       No  \n",
       "444   17/23                     5       No  \n",
       "462   20/60                    10       No  \n",
       "571   20/27                     6       No  \n",
       "578   19/26                     5       No  \n",
       "584   14/19                     3       No  \n",
       "616   27/65                     9      Yes  \n",
       "742   10/14                     1       No  \n",
       "747   10/15                     2       No  \n",
       "777   29/71                    10    Elite  \n",
       "789   26/59                    10    Elite  \n",
       "793   27/62                    10    Elite  "
      ]
     },
     "execution_count": 153,
     "metadata": {},
     "output_type": "execute_result"
    }
   ],
   "source": [
    "# hybrids in 2018\n",
    "hb_18 = df_18[df_18['fuel'].str.contains('/')]\n",
    "hb_18"
   ]
  },
  {
   "cell_type": "markdown",
   "id": "67a0214f",
   "metadata": {},
   "source": [
    "We're going to take each hybrid row and split them into two new rows - one with values for the first fuel type (values before the \"/\"), and the other with values for the second fuel type (values after the \"/\"). Let's separate them with two dataframes!"
   ]
  },
  {
   "cell_type": "code",
   "execution_count": 154,
   "id": "89a5236b",
   "metadata": {},
   "outputs": [
    {
     "data": {
      "text/html": [
       "<div>\n",
       "<style scoped>\n",
       "    .dataframe tbody tr th:only-of-type {\n",
       "        vertical-align: middle;\n",
       "    }\n",
       "\n",
       "    .dataframe tbody tr th {\n",
       "        vertical-align: top;\n",
       "    }\n",
       "\n",
       "    .dataframe thead th {\n",
       "        text-align: right;\n",
       "    }\n",
       "</style>\n",
       "<table border=\"1\" class=\"dataframe\">\n",
       "  <thead>\n",
       "    <tr style=\"text-align: right;\">\n",
       "      <th></th>\n",
       "      <th>model</th>\n",
       "      <th>displ</th>\n",
       "      <th>cyl</th>\n",
       "      <th>trans</th>\n",
       "      <th>drive</th>\n",
       "      <th>fuel</th>\n",
       "      <th>veh_class</th>\n",
       "      <th>air_pollution_score</th>\n",
       "      <th>city_mpg</th>\n",
       "      <th>hwy_mpg</th>\n",
       "      <th>cmb_mpg</th>\n",
       "      <th>greenhouse_gas_score</th>\n",
       "      <th>smartway</th>\n",
       "    </tr>\n",
       "  </thead>\n",
       "  <tbody>\n",
       "    <tr>\n",
       "      <th>582</th>\n",
       "      <td>MERCEDES-BENZ C300</td>\n",
       "      <td>3.0</td>\n",
       "      <td>6</td>\n",
       "      <td>Auto-L7</td>\n",
       "      <td>2WD</td>\n",
       "      <td>ethanol/gas</td>\n",
       "      <td>small car</td>\n",
       "      <td>6/4</td>\n",
       "      <td>13/18</td>\n",
       "      <td>19/25</td>\n",
       "      <td>15/21</td>\n",
       "      <td>7/6</td>\n",
       "      <td>no</td>\n",
       "    </tr>\n",
       "  </tbody>\n",
       "</table>\n",
       "</div>"
      ],
      "text/plain": [
       "                  model  displ  cyl    trans drive         fuel  veh_class  \\\n",
       "582  MERCEDES-BENZ C300    3.0    6  Auto-L7   2WD  ethanol/gas  small car   \n",
       "\n",
       "    air_pollution_score city_mpg hwy_mpg cmb_mpg greenhouse_gas_score smartway  \n",
       "582                 6/4    13/18   19/25   15/21                  7/6       no  "
      ]
     },
     "execution_count": 154,
     "metadata": {},
     "output_type": "execute_result"
    }
   ],
   "source": [
    "# create two copies of the 2008 hybrids dataframe\n",
    "df1 = hb_08.copy()  # data on first fuel type of each hybrid vehicle\n",
    "df2 = hb_08.copy()  # data on second fuel type of each hybrid vehicle\n",
    "\n",
    "# Each one should look like this\n",
    "df1"
   ]
  },
  {
   "cell_type": "markdown",
   "id": "bf2b2606",
   "metadata": {},
   "source": [
    "For this next part, we're going use pandas' apply function. See the docs [here](https://pandas.pydata.org/pandas-docs/stable/generated/pandas.DataFrame.apply.html)."
   ]
  },
  {
   "cell_type": "code",
   "execution_count": 155,
   "id": "e7df60d2",
   "metadata": {},
   "outputs": [],
   "source": [
    "# columns to split by \"/\"\n",
    "split_columns = ['fuel', 'air_pollution_score', 'city_mpg', 'hwy_mpg', 'cmb_mpg', 'greenhouse_gas_score']\n",
    "\n",
    "# apply split function to each column of each dataframe copy\n",
    "for c in split_columns:\n",
    "    df1[c] = df1[c].apply(lambda x: x.split(\"/\")[0])\n",
    "    df2[c] = df2[c].apply(lambda x: x.split(\"/\")[1])"
   ]
  },
  {
   "cell_type": "code",
   "execution_count": 156,
   "id": "4da4391c",
   "metadata": {},
   "outputs": [
    {
     "data": {
      "text/html": [
       "<div>\n",
       "<style scoped>\n",
       "    .dataframe tbody tr th:only-of-type {\n",
       "        vertical-align: middle;\n",
       "    }\n",
       "\n",
       "    .dataframe tbody tr th {\n",
       "        vertical-align: top;\n",
       "    }\n",
       "\n",
       "    .dataframe thead th {\n",
       "        text-align: right;\n",
       "    }\n",
       "</style>\n",
       "<table border=\"1\" class=\"dataframe\">\n",
       "  <thead>\n",
       "    <tr style=\"text-align: right;\">\n",
       "      <th></th>\n",
       "      <th>model</th>\n",
       "      <th>displ</th>\n",
       "      <th>cyl</th>\n",
       "      <th>trans</th>\n",
       "      <th>drive</th>\n",
       "      <th>fuel</th>\n",
       "      <th>veh_class</th>\n",
       "      <th>air_pollution_score</th>\n",
       "      <th>city_mpg</th>\n",
       "      <th>hwy_mpg</th>\n",
       "      <th>cmb_mpg</th>\n",
       "      <th>greenhouse_gas_score</th>\n",
       "      <th>smartway</th>\n",
       "    </tr>\n",
       "  </thead>\n",
       "  <tbody>\n",
       "    <tr>\n",
       "      <th>582</th>\n",
       "      <td>MERCEDES-BENZ C300</td>\n",
       "      <td>3.0</td>\n",
       "      <td>6</td>\n",
       "      <td>Auto-L7</td>\n",
       "      <td>2WD</td>\n",
       "      <td>ethanol</td>\n",
       "      <td>small car</td>\n",
       "      <td>6</td>\n",
       "      <td>13</td>\n",
       "      <td>19</td>\n",
       "      <td>15</td>\n",
       "      <td>7</td>\n",
       "      <td>no</td>\n",
       "    </tr>\n",
       "  </tbody>\n",
       "</table>\n",
       "</div>"
      ],
      "text/plain": [
       "                  model  displ  cyl    trans drive     fuel  veh_class  \\\n",
       "582  MERCEDES-BENZ C300    3.0    6  Auto-L7   2WD  ethanol  small car   \n",
       "\n",
       "    air_pollution_score city_mpg hwy_mpg cmb_mpg greenhouse_gas_score smartway  \n",
       "582                   6       13      19      15                    7       no  "
      ]
     },
     "execution_count": 156,
     "metadata": {},
     "output_type": "execute_result"
    }
   ],
   "source": [
    "# this dataframe holds info for the FIRST fuel type of the hybrid\n",
    "# aka the values before the \"/\"s\n",
    "df1"
   ]
  },
  {
   "cell_type": "code",
   "execution_count": 157,
   "id": "f073bfd5",
   "metadata": {},
   "outputs": [
    {
     "data": {
      "text/html": [
       "<div>\n",
       "<style scoped>\n",
       "    .dataframe tbody tr th:only-of-type {\n",
       "        vertical-align: middle;\n",
       "    }\n",
       "\n",
       "    .dataframe tbody tr th {\n",
       "        vertical-align: top;\n",
       "    }\n",
       "\n",
       "    .dataframe thead th {\n",
       "        text-align: right;\n",
       "    }\n",
       "</style>\n",
       "<table border=\"1\" class=\"dataframe\">\n",
       "  <thead>\n",
       "    <tr style=\"text-align: right;\">\n",
       "      <th></th>\n",
       "      <th>model</th>\n",
       "      <th>displ</th>\n",
       "      <th>cyl</th>\n",
       "      <th>trans</th>\n",
       "      <th>drive</th>\n",
       "      <th>fuel</th>\n",
       "      <th>veh_class</th>\n",
       "      <th>air_pollution_score</th>\n",
       "      <th>city_mpg</th>\n",
       "      <th>hwy_mpg</th>\n",
       "      <th>cmb_mpg</th>\n",
       "      <th>greenhouse_gas_score</th>\n",
       "      <th>smartway</th>\n",
       "    </tr>\n",
       "  </thead>\n",
       "  <tbody>\n",
       "    <tr>\n",
       "      <th>582</th>\n",
       "      <td>MERCEDES-BENZ C300</td>\n",
       "      <td>3.0</td>\n",
       "      <td>6</td>\n",
       "      <td>Auto-L7</td>\n",
       "      <td>2WD</td>\n",
       "      <td>gas</td>\n",
       "      <td>small car</td>\n",
       "      <td>4</td>\n",
       "      <td>18</td>\n",
       "      <td>25</td>\n",
       "      <td>21</td>\n",
       "      <td>6</td>\n",
       "      <td>no</td>\n",
       "    </tr>\n",
       "  </tbody>\n",
       "</table>\n",
       "</div>"
      ],
      "text/plain": [
       "                  model  displ  cyl    trans drive fuel  veh_class  \\\n",
       "582  MERCEDES-BENZ C300    3.0    6  Auto-L7   2WD  gas  small car   \n",
       "\n",
       "    air_pollution_score city_mpg hwy_mpg cmb_mpg greenhouse_gas_score smartway  \n",
       "582                   4       18      25      21                    6       no  "
      ]
     },
     "execution_count": 157,
     "metadata": {},
     "output_type": "execute_result"
    }
   ],
   "source": [
    "# this dataframe holds info for the SECOND fuel type of the hybrid\n",
    "# aka the values after the \"/\"s\n",
    "df2"
   ]
  },
  {
   "cell_type": "code",
   "execution_count": 158,
   "id": "16482e2e",
   "metadata": {},
   "outputs": [
    {
     "data": {
      "text/html": [
       "<div>\n",
       "<style scoped>\n",
       "    .dataframe tbody tr th:only-of-type {\n",
       "        vertical-align: middle;\n",
       "    }\n",
       "\n",
       "    .dataframe tbody tr th {\n",
       "        vertical-align: top;\n",
       "    }\n",
       "\n",
       "    .dataframe thead th {\n",
       "        text-align: right;\n",
       "    }\n",
       "</style>\n",
       "<table border=\"1\" class=\"dataframe\">\n",
       "  <thead>\n",
       "    <tr style=\"text-align: right;\">\n",
       "      <th></th>\n",
       "      <th>model</th>\n",
       "      <th>displ</th>\n",
       "      <th>cyl</th>\n",
       "      <th>trans</th>\n",
       "      <th>drive</th>\n",
       "      <th>fuel</th>\n",
       "      <th>veh_class</th>\n",
       "      <th>air_pollution_score</th>\n",
       "      <th>city_mpg</th>\n",
       "      <th>hwy_mpg</th>\n",
       "      <th>cmb_mpg</th>\n",
       "      <th>greenhouse_gas_score</th>\n",
       "      <th>smartway</th>\n",
       "    </tr>\n",
       "  </thead>\n",
       "  <tbody>\n",
       "    <tr>\n",
       "      <th>582</th>\n",
       "      <td>MERCEDES-BENZ C300</td>\n",
       "      <td>3.0</td>\n",
       "      <td>6</td>\n",
       "      <td>Auto-L7</td>\n",
       "      <td>2WD</td>\n",
       "      <td>ethanol</td>\n",
       "      <td>small car</td>\n",
       "      <td>6</td>\n",
       "      <td>13</td>\n",
       "      <td>19</td>\n",
       "      <td>15</td>\n",
       "      <td>7</td>\n",
       "      <td>no</td>\n",
       "    </tr>\n",
       "    <tr>\n",
       "      <th>582</th>\n",
       "      <td>MERCEDES-BENZ C300</td>\n",
       "      <td>3.0</td>\n",
       "      <td>6</td>\n",
       "      <td>Auto-L7</td>\n",
       "      <td>2WD</td>\n",
       "      <td>gas</td>\n",
       "      <td>small car</td>\n",
       "      <td>4</td>\n",
       "      <td>18</td>\n",
       "      <td>25</td>\n",
       "      <td>21</td>\n",
       "      <td>6</td>\n",
       "      <td>no</td>\n",
       "    </tr>\n",
       "  </tbody>\n",
       "</table>\n",
       "</div>"
      ],
      "text/plain": [
       "                  model  displ  cyl    trans drive     fuel  veh_class  \\\n",
       "582  MERCEDES-BENZ C300    3.0    6  Auto-L7   2WD  ethanol  small car   \n",
       "582  MERCEDES-BENZ C300    3.0    6  Auto-L7   2WD      gas  small car   \n",
       "\n",
       "    air_pollution_score city_mpg hwy_mpg cmb_mpg greenhouse_gas_score smartway  \n",
       "582                   6       13      19      15                    7       no  \n",
       "582                   4       18      25      21                    6       no  "
      ]
     },
     "execution_count": 158,
     "metadata": {},
     "output_type": "execute_result"
    }
   ],
   "source": [
    "# combine dataframes to add to the original dataframe\n",
    "new_rows = df1.append(df2)\n",
    "\n",
    "# now we have separate rows for each fuel type of each vehicle!\n",
    "new_rows"
   ]
  },
  {
   "cell_type": "code",
   "execution_count": 159,
   "id": "79c8f589",
   "metadata": {},
   "outputs": [],
   "source": [
    "# drop the original hybrid rows\n",
    "df_08.drop(hb_08.index, inplace=True)\n",
    "\n",
    "# add in our newly separated rows\n",
    "df_08 = df_08.append(new_rows, ignore_index=True)"
   ]
  },
  {
   "cell_type": "code",
   "execution_count": 160,
   "id": "ea205e3b",
   "metadata": {},
   "outputs": [
    {
     "data": {
      "text/html": [
       "<div>\n",
       "<style scoped>\n",
       "    .dataframe tbody tr th:only-of-type {\n",
       "        vertical-align: middle;\n",
       "    }\n",
       "\n",
       "    .dataframe tbody tr th {\n",
       "        vertical-align: top;\n",
       "    }\n",
       "\n",
       "    .dataframe thead th {\n",
       "        text-align: right;\n",
       "    }\n",
       "</style>\n",
       "<table border=\"1\" class=\"dataframe\">\n",
       "  <thead>\n",
       "    <tr style=\"text-align: right;\">\n",
       "      <th></th>\n",
       "      <th>model</th>\n",
       "      <th>displ</th>\n",
       "      <th>cyl</th>\n",
       "      <th>trans</th>\n",
       "      <th>drive</th>\n",
       "      <th>fuel</th>\n",
       "      <th>veh_class</th>\n",
       "      <th>air_pollution_score</th>\n",
       "      <th>city_mpg</th>\n",
       "      <th>hwy_mpg</th>\n",
       "      <th>cmb_mpg</th>\n",
       "      <th>greenhouse_gas_score</th>\n",
       "      <th>smartway</th>\n",
       "    </tr>\n",
       "  </thead>\n",
       "  <tbody>\n",
       "  </tbody>\n",
       "</table>\n",
       "</div>"
      ],
      "text/plain": [
       "Empty DataFrame\n",
       "Columns: [model, displ, cyl, trans, drive, fuel, veh_class, air_pollution_score, city_mpg, hwy_mpg, cmb_mpg, greenhouse_gas_score, smartway]\n",
       "Index: []"
      ]
     },
     "execution_count": 160,
     "metadata": {},
     "output_type": "execute_result"
    }
   ],
   "source": [
    "# check that all the original hybrid rows with \"/\"s are gone\n",
    "df_08[df_08['fuel'].str.contains('/')]"
   ]
  },
  {
   "cell_type": "code",
   "execution_count": 161,
   "id": "8d675ab0",
   "metadata": {},
   "outputs": [
    {
     "data": {
      "text/plain": [
       "(987, 13)"
      ]
     },
     "execution_count": 161,
     "metadata": {},
     "output_type": "execute_result"
    }
   ],
   "source": [
    "df_08.shape"
   ]
  },
  {
   "cell_type": "markdown",
   "id": "e085ca43",
   "metadata": {},
   "source": [
    "## Repeat this process for the 2018 dataset"
   ]
  },
  {
   "cell_type": "code",
   "execution_count": 162,
   "id": "f0c69989",
   "metadata": {},
   "outputs": [],
   "source": [
    "# create two copies of the 2018 hybrids dataframe, hb_18\n",
    "df1 = hb_18.copy()\n",
    "df2 = hb_18.copy()"
   ]
  },
  {
   "cell_type": "markdown",
   "id": "b2a53421",
   "metadata": {},
   "source": [
    "### Split values for `fuel`, `city_mpg`, `hwy_mpg`, `cmb_mpg`\n",
    "You don't need to split for `air_pollution_score` or `greenhouse_gas_score` here because these columns are already ints in the 2018 dataset."
   ]
  },
  {
   "cell_type": "code",
   "execution_count": 163,
   "id": "0a3fad5f",
   "metadata": {},
   "outputs": [],
   "source": [
    "# list of columns to split\n",
    "split_columns = ['fuel', 'city_mpg', 'hwy_mpg', 'cmb_mpg']\n",
    "\n",
    "# apply split function to each column of each dataframe copy\n",
    "for c in split_columns:\n",
    "    df1[c] = df1[c].apply(lambda x: x.split(\"/\")[0])\n",
    "    df2[c] = df2[c].apply(lambda x: x.split(\"/\")[1])"
   ]
  },
  {
   "cell_type": "code",
   "execution_count": 164,
   "id": "cde91f5e",
   "metadata": {},
   "outputs": [
    {
     "data": {
      "text/plain": [
       "(832, 13)"
      ]
     },
     "execution_count": 164,
     "metadata": {},
     "output_type": "execute_result"
    }
   ],
   "source": [
    "# append the two dataframes\n",
    "new_rows = df1.append(df2)\n",
    "\n",
    "# drop each hybrid row from the original 2018 dataframe\n",
    "# do this by using pandas' drop function with hb_18's index\n",
    "df_18.drop(hb_18.index, inplace=True)\n",
    "\n",
    "# append new_rows to df_18\n",
    "df_18 = df_18.append(new_rows, ignore_index=True)"
   ]
  },
  {
   "cell_type": "code",
   "execution_count": 165,
   "id": "732ba058",
   "metadata": {},
   "outputs": [
    {
     "data": {
      "text/html": [
       "<div>\n",
       "<style scoped>\n",
       "    .dataframe tbody tr th:only-of-type {\n",
       "        vertical-align: middle;\n",
       "    }\n",
       "\n",
       "    .dataframe tbody tr th {\n",
       "        vertical-align: top;\n",
       "    }\n",
       "\n",
       "    .dataframe thead th {\n",
       "        text-align: right;\n",
       "    }\n",
       "</style>\n",
       "<table border=\"1\" class=\"dataframe\">\n",
       "  <thead>\n",
       "    <tr style=\"text-align: right;\">\n",
       "      <th></th>\n",
       "      <th>model</th>\n",
       "      <th>displ</th>\n",
       "      <th>cyl</th>\n",
       "      <th>trans</th>\n",
       "      <th>drive</th>\n",
       "      <th>fuel</th>\n",
       "      <th>veh_class</th>\n",
       "      <th>air_pollution_score</th>\n",
       "      <th>city_mpg</th>\n",
       "      <th>hwy_mpg</th>\n",
       "      <th>cmb_mpg</th>\n",
       "      <th>greenhouse_gas_score</th>\n",
       "      <th>smartway</th>\n",
       "    </tr>\n",
       "  </thead>\n",
       "  <tbody>\n",
       "  </tbody>\n",
       "</table>\n",
       "</div>"
      ],
      "text/plain": [
       "Empty DataFrame\n",
       "Columns: [model, displ, cyl, trans, drive, fuel, veh_class, air_pollution_score, city_mpg, hwy_mpg, cmb_mpg, greenhouse_gas_score, smartway]\n",
       "Index: []"
      ]
     },
     "execution_count": 165,
     "metadata": {},
     "output_type": "execute_result"
    }
   ],
   "source": [
    "# check that they're gone\n",
    "df_18[df_18['fuel'].str.contains('/')]"
   ]
  },
  {
   "cell_type": "code",
   "execution_count": 166,
   "id": "aee6159a",
   "metadata": {},
   "outputs": [
    {
     "data": {
      "text/plain": [
       "(832, 13)"
      ]
     },
     "execution_count": 166,
     "metadata": {},
     "output_type": "execute_result"
    }
   ],
   "source": [
    "df_18.shape"
   ]
  },
  {
   "cell_type": "markdown",
   "id": "94151831",
   "metadata": {},
   "source": [
    "### Now we can comfortably continue the changes needed for `air_pollution_score`! Here they are again:\n",
    "- 2008: convert string to float\n",
    "- 2018: convert int to float"
   ]
  },
  {
   "cell_type": "code",
   "execution_count": 174,
   "id": "1a20f915",
   "metadata": {},
   "outputs": [],
   "source": [
    "# convert string to float for 2008 air pollution column\n",
    "df_08['air_pollution_score'] = df_08['air_pollution_score'].astype(float)"
   ]
  },
  {
   "cell_type": "code",
   "execution_count": 175,
   "id": "1eba7c8f",
   "metadata": {},
   "outputs": [],
   "source": [
    "# convert int to float for 2018 air pollution column\n",
    "df_18['air_pollution_score'] = df_18['air_pollution_score'].astype(float)"
   ]
  },
  {
   "cell_type": "code",
   "execution_count": 178,
   "id": "8583e4ea",
   "metadata": {},
   "outputs": [],
   "source": [
    "df_08.to_csv('data_08_v4.csv', index=False)\n",
    "df_18.to_csv('data_18_v4.csv', index=False)"
   ]
  },
  {
   "cell_type": "markdown",
   "id": "2b404f3e",
   "metadata": {},
   "source": [
    "## Fix `city_mpg`, `hwy_mpg`, `cmb_mpg` datatypes\n",
    "    2008 and 2018: convert string to float\n",
    "\n",
    "Load datasets `data_08_v4.csv` and `data_18_v4.csv`. You should've created these data files in the previous section: *Fixing Data Types Pt 2*."
   ]
  },
  {
   "cell_type": "code",
   "execution_count": 181,
   "id": "138bb5e0",
   "metadata": {},
   "outputs": [],
   "source": [
    "# load datasets\n",
    "\n",
    "df_08 = pd.read_csv('data_08_v4.csv')\n",
    "df_18 = pd.read_csv('data_18_v4.csv')"
   ]
  },
  {
   "cell_type": "code",
   "execution_count": 182,
   "id": "ac95ced2",
   "metadata": {},
   "outputs": [],
   "source": [
    "# convert mpg columns to floats\n",
    "mpg_columns = ['city_mpg', 'hwy_mpg', 'cmb_mpg']\n",
    "for c in mpg_columns:\n",
    "    df_18[c] = df_18[c].astype(float)\n",
    "    df_08[c] = df_08[c].astype(float)"
   ]
  },
  {
   "cell_type": "markdown",
   "id": "38521266",
   "metadata": {},
   "source": [
    "## Fix `greenhouse_gas_score` datatype\n",
    "    2008: convert from float to int"
   ]
  },
  {
   "cell_type": "code",
   "execution_count": 189,
   "id": "d323871e",
   "metadata": {},
   "outputs": [],
   "source": [
    "# convert from float to int\n",
    "df_08['greenhouse_gas_score'] = df_08['greenhouse_gas_score'].astype(int)\n",
    "df_18['greenhouse_gas_score'] = df_18['greenhouse_gas_score'].astype(int)"
   ]
  },
  {
   "cell_type": "markdown",
   "id": "dc6463d7",
   "metadata": {},
   "source": [
    "## All the dataypes are now fixed! Take one last check to confirm all the changes."
   ]
  },
  {
   "cell_type": "code",
   "execution_count": 190,
   "id": "f01abd7a",
   "metadata": {},
   "outputs": [
    {
     "data": {
      "text/plain": [
       "model                    object\n",
       "displ                   float64\n",
       "cyl                       int64\n",
       "trans                    object\n",
       "drive                    object\n",
       "fuel                     object\n",
       "veh_class                object\n",
       "air_pollution_score     float64\n",
       "city_mpg                float64\n",
       "hwy_mpg                 float64\n",
       "cmb_mpg                 float64\n",
       "greenhouse_gas_score      int32\n",
       "smartway                 object\n",
       "dtype: object"
      ]
     },
     "execution_count": 190,
     "metadata": {},
     "output_type": "execute_result"
    }
   ],
   "source": [
    "df_08.dtypes"
   ]
  },
  {
   "cell_type": "code",
   "execution_count": 191,
   "id": "2b626091",
   "metadata": {},
   "outputs": [
    {
     "data": {
      "text/plain": [
       "model                    object\n",
       "displ                   float64\n",
       "cyl                       int64\n",
       "trans                    object\n",
       "drive                    object\n",
       "fuel                     object\n",
       "veh_class                object\n",
       "air_pollution_score     float64\n",
       "city_mpg                float64\n",
       "hwy_mpg                 float64\n",
       "cmb_mpg                 float64\n",
       "greenhouse_gas_score      int32\n",
       "smartway                 object\n",
       "dtype: object"
      ]
     },
     "execution_count": 191,
     "metadata": {},
     "output_type": "execute_result"
    }
   ],
   "source": [
    "df_18.dtypes"
   ]
  },
  {
   "cell_type": "code",
   "execution_count": 192,
   "id": "61ec5191",
   "metadata": {},
   "outputs": [
    {
     "data": {
      "text/plain": [
       "model                   True\n",
       "displ                   True\n",
       "cyl                     True\n",
       "trans                   True\n",
       "drive                   True\n",
       "fuel                    True\n",
       "veh_class               True\n",
       "air_pollution_score     True\n",
       "city_mpg                True\n",
       "hwy_mpg                 True\n",
       "cmb_mpg                 True\n",
       "greenhouse_gas_score    True\n",
       "smartway                True\n",
       "dtype: bool"
      ]
     },
     "execution_count": 192,
     "metadata": {},
     "output_type": "execute_result"
    }
   ],
   "source": [
    "df_08.dtypes == df_18.dtypes"
   ]
  },
  {
   "cell_type": "code",
   "execution_count": 193,
   "id": "76eb6a49",
   "metadata": {},
   "outputs": [],
   "source": [
    "# Save your final CLEAN datasets as new files!\n",
    "df_08.to_csv('clean_08.csv', index=False)\n",
    "df_18.to_csv('clean_18.csv', index=False)"
   ]
  },
  {
   "cell_type": "markdown",
   "id": "68dee219",
   "metadata": {},
   "source": [
    "## Exploring with Visuals"
   ]
  },
  {
   "cell_type": "code",
   "execution_count": 2,
   "id": "a193594c",
   "metadata": {},
   "outputs": [],
   "source": [
    "# load datasets\n",
    "import pandas as pd\n",
    "import numpy as np\n",
    "import matplotlib.pyplot as plt\n",
    "import seaborn as sns\n",
    "%matplotlib inline\n",
    "\n",
    "sns.set_style('darkgrid')\n",
    "\n",
    "df_08 = pd.read_csv('clean_08.csv')\n",
    "df_18 = pd.read_csv('clean_18.csv')"
   ]
  },
  {
   "cell_type": "markdown",
   "id": "8d1c02f3",
   "metadata": {},
   "source": [
    "### Compare the distribution of greenhouse gas score in 2008 and 2018"
   ]
  },
  {
   "cell_type": "code",
   "execution_count": 3,
   "id": "4e50da75",
   "metadata": {},
   "outputs": [
    {
     "data": {
      "image/png": "[encoded data removed]",
      "text/plain": [
       "<Figure size 432x288 with 1 Axes>"
      ]
     },
     "metadata": {},
     "output_type": "display_data"
    }
   ],
   "source": [
    "df_08['greenhouse_gas_score'].hist();"
   ]
  },
  {
   "cell_type": "code",
   "execution_count": 4,
   "id": "90ee9ba1",
   "metadata": {},
   "outputs": [
    {
     "data": {
      "image/png": "[encoded data removed]",
      "text/plain": [
       "<Figure size 432x288 with 1 Axes>"
      ]
     },
     "metadata": {},
     "output_type": "display_data"
    }
   ],
   "source": [
    "df_18['greenhouse_gas_score'].hist();"
   ]
  },
  {
   "cell_type": "markdown",
   "id": "ecb6adcf",
   "metadata": {},
   "source": [
    "### How has the distribution of combined mpg changed from 2008 to 2018?"
   ]
  },
  {
   "cell_type": "code",
   "execution_count": 5,
   "id": "25b56566",
   "metadata": {},
   "outputs": [
    {
     "data": {
      "image/png": "[encoded data removed]",
      "text/plain": [
       "<Figure size 432x288 with 1 Axes>"
      ]
     },
     "metadata": {},
     "output_type": "display_data"
    }
   ],
   "source": [
    "df_08['cmb_mpg'].hist();"
   ]
  },
  {
   "cell_type": "code",
   "execution_count": 6,
   "id": "9a2a74f5",
   "metadata": {},
   "outputs": [
    {
     "data": {
      "image/png": "[encoded data removed]",
      "text/plain": [
       "<Figure size 432x288 with 1 Axes>"
      ]
     },
     "metadata": {},
     "output_type": "display_data"
    }
   ],
   "source": [
    "df_18['cmb_mpg'].hist();"
   ]
  },
  {
   "cell_type": "markdown",
   "id": "5d9137be",
   "metadata": {},
   "source": [
    "### Describe the correlation between displacement and combined mpg."
   ]
  },
  {
   "cell_type": "code",
   "execution_count": 7,
   "id": "d7e17eea",
   "metadata": {},
   "outputs": [
    {
     "data": {
      "image/png": "[encoded data removed]",
      "text/plain": [
       "<Figure size 432x288 with 1 Axes>"
      ]
     },
     "metadata": {},
     "output_type": "display_data"
    }
   ],
   "source": [
    "df_08.plot(x='displ', y='cmb_mpg', kind='scatter');"
   ]
  },
  {
   "cell_type": "code",
   "execution_count": 8,
   "id": "afd731ee",
   "metadata": {},
   "outputs": [
    {
     "data": {
      "image/png": "[encoded data removed]",
      "text/plain": [
       "<Figure size 432x288 with 1 Axes>"
      ]
     },
     "metadata": {},
     "output_type": "display_data"
    }
   ],
   "source": [
    "df_18.plot(x='displ', y='cmb_mpg', kind='scatter');"
   ]
  },
  {
   "cell_type": "code",
   "execution_count": 9,
   "id": "f3b79c97",
   "metadata": {},
   "outputs": [
    {
     "data": {
      "image/png": "[encoded data removed]",
      "text/plain": [
       "<Figure size 432x288 with 1 Axes>"
      ]
     },
     "metadata": {},
     "output_type": "display_data"
    }
   ],
   "source": [
    "df_08.plot(x='greenhouse_gas_score', y='cmb_mpg', kind='scatter');"
   ]
  },
  {
   "cell_type": "code",
   "execution_count": 10,
   "id": "9cf69bb5",
   "metadata": {},
   "outputs": [
    {
     "data": {
      "image/png": "[encoded data removed]",
      "text/plain": [
       "<Figure size 432x288 with 1 Axes>"
      ]
     },
     "metadata": {},
     "output_type": "display_data"
    }
   ],
   "source": [
    "df_18.plot(x='greenhouse_gas_score', y='cmb_mpg', kind='scatter');"
   ]
  },
  {
   "cell_type": "markdown",
   "id": "a4cf22f6",
   "metadata": {},
   "source": [
    "## Drawing Conclusions"
   ]
  },
  {
   "cell_type": "markdown",
   "id": "63a575ca",
   "metadata": {},
   "source": [
    "### Q1: Are more unique models using alternative sources of fuel? By how much?"
   ]
  },
  {
   "cell_type": "code",
   "execution_count": 55,
   "id": "562418e4",
   "metadata": {},
   "outputs": [
    {
     "data": {
      "text/html": [
       "<div>\n",
       "<style scoped>\n",
       "    .dataframe tbody tr th:only-of-type {\n",
       "        vertical-align: middle;\n",
       "    }\n",
       "\n",
       "    .dataframe tbody tr th {\n",
       "        vertical-align: top;\n",
       "    }\n",
       "\n",
       "    .dataframe thead th {\n",
       "        text-align: right;\n",
       "    }\n",
       "</style>\n",
       "<table border=\"1\" class=\"dataframe\">\n",
       "  <thead>\n",
       "    <tr style=\"text-align: right;\">\n",
       "      <th></th>\n",
       "      <th>model</th>\n",
       "      <th>displ</th>\n",
       "      <th>cyl</th>\n",
       "      <th>trans</th>\n",
       "      <th>drive</th>\n",
       "      <th>fuel</th>\n",
       "      <th>veh_class</th>\n",
       "      <th>air_pollution_score</th>\n",
       "      <th>city_mpg</th>\n",
       "      <th>hwy_mpg</th>\n",
       "      <th>cmb_mpg</th>\n",
       "      <th>greenhouse_gas_score</th>\n",
       "      <th>smartway</th>\n",
       "    </tr>\n",
       "  </thead>\n",
       "  <tbody>\n",
       "    <tr>\n",
       "      <th>0</th>\n",
       "      <td>ACURA MDX</td>\n",
       "      <td>3.7</td>\n",
       "      <td>6</td>\n",
       "      <td>Auto-S5</td>\n",
       "      <td>4WD</td>\n",
       "      <td>Gasoline</td>\n",
       "      <td>SUV</td>\n",
       "      <td>7.0</td>\n",
       "      <td>15.0</td>\n",
       "      <td>20.0</td>\n",
       "      <td>17.0</td>\n",
       "      <td>4</td>\n",
       "      <td>no</td>\n",
       "    </tr>\n",
       "    <tr>\n",
       "      <th>1</th>\n",
       "      <td>ACURA RDX</td>\n",
       "      <td>2.3</td>\n",
       "      <td>4</td>\n",
       "      <td>Auto-S5</td>\n",
       "      <td>4WD</td>\n",
       "      <td>Gasoline</td>\n",
       "      <td>SUV</td>\n",
       "      <td>7.0</td>\n",
       "      <td>17.0</td>\n",
       "      <td>22.0</td>\n",
       "      <td>19.0</td>\n",
       "      <td>5</td>\n",
       "      <td>no</td>\n",
       "    </tr>\n",
       "    <tr>\n",
       "      <th>2</th>\n",
       "      <td>ACURA RL</td>\n",
       "      <td>3.5</td>\n",
       "      <td>6</td>\n",
       "      <td>Auto-S5</td>\n",
       "      <td>4WD</td>\n",
       "      <td>Gasoline</td>\n",
       "      <td>midsize car</td>\n",
       "      <td>7.0</td>\n",
       "      <td>16.0</td>\n",
       "      <td>24.0</td>\n",
       "      <td>19.0</td>\n",
       "      <td>5</td>\n",
       "      <td>no</td>\n",
       "    </tr>\n",
       "    <tr>\n",
       "      <th>3</th>\n",
       "      <td>ACURA TL</td>\n",
       "      <td>3.2</td>\n",
       "      <td>6</td>\n",
       "      <td>Auto-S5</td>\n",
       "      <td>2WD</td>\n",
       "      <td>Gasoline</td>\n",
       "      <td>midsize car</td>\n",
       "      <td>7.0</td>\n",
       "      <td>18.0</td>\n",
       "      <td>26.0</td>\n",
       "      <td>21.0</td>\n",
       "      <td>6</td>\n",
       "      <td>yes</td>\n",
       "    </tr>\n",
       "    <tr>\n",
       "      <th>4</th>\n",
       "      <td>ACURA TL</td>\n",
       "      <td>3.5</td>\n",
       "      <td>6</td>\n",
       "      <td>Auto-S5</td>\n",
       "      <td>2WD</td>\n",
       "      <td>Gasoline</td>\n",
       "      <td>midsize car</td>\n",
       "      <td>7.0</td>\n",
       "      <td>17.0</td>\n",
       "      <td>26.0</td>\n",
       "      <td>20.0</td>\n",
       "      <td>6</td>\n",
       "      <td>yes</td>\n",
       "    </tr>\n",
       "  </tbody>\n",
       "</table>\n",
       "</div>"
      ],
      "text/plain": [
       "       model  displ  cyl    trans drive      fuel    veh_class  \\\n",
       "0  ACURA MDX    3.7    6  Auto-S5   4WD  Gasoline          SUV   \n",
       "1  ACURA RDX    2.3    4  Auto-S5   4WD  Gasoline          SUV   \n",
       "2   ACURA RL    3.5    6  Auto-S5   4WD  Gasoline  midsize car   \n",
       "3   ACURA TL    3.2    6  Auto-S5   2WD  Gasoline  midsize car   \n",
       "4   ACURA TL    3.5    6  Auto-S5   2WD  Gasoline  midsize car   \n",
       "\n",
       "   air_pollution_score  city_mpg  hwy_mpg  cmb_mpg  greenhouse_gas_score  \\\n",
       "0                  7.0      15.0     20.0     17.0                     4   \n",
       "1                  7.0      17.0     22.0     19.0                     5   \n",
       "2                  7.0      16.0     24.0     19.0                     5   \n",
       "3                  7.0      18.0     26.0     21.0                     6   \n",
       "4                  7.0      17.0     26.0     20.0                     6   \n",
       "\n",
       "  smartway  \n",
       "0       no  \n",
       "1       no  \n",
       "2       no  \n",
       "3      yes  \n",
       "4      yes  "
      ]
     },
     "execution_count": 55,
     "metadata": {},
     "output_type": "execute_result"
    }
   ],
   "source": [
    "df_08.head()"
   ]
  },
  {
   "cell_type": "code",
   "execution_count": 28,
   "id": "91cd4194",
   "metadata": {},
   "outputs": [
    {
     "data": {
      "text/plain": [
       "Gasoline    984\n",
       "CNG           1\n",
       "ethanol       1\n",
       "gas           1\n",
       "Name: fuel, dtype: int64"
      ]
     },
     "execution_count": 28,
     "metadata": {},
     "output_type": "execute_result"
    }
   ],
   "source": [
    "df_08['fuel'].value_counts()"
   ]
  },
  {
   "cell_type": "code",
   "execution_count": 43,
   "id": "7255855a",
   "metadata": {},
   "outputs": [
    {
     "data": {
      "text/plain": [
       "Gasoline       749\n",
       "Ethanol         26\n",
       "Gas             26\n",
       "Diesel          19\n",
       "Electricity     12\n",
       "Name: fuel, dtype: int64"
      ]
     },
     "execution_count": 43,
     "metadata": {},
     "output_type": "execute_result"
    }
   ],
   "source": [
    "df_18['fuel'].value_counts()"
   ]
  },
  {
   "cell_type": "markdown",
   "id": "8ac3bde9",
   "metadata": {},
   "source": [
    "Looks like the alternative sources of fuel available in 2008 are CNG and ethanol, and those in 2018 ethanol and electricity. (You can use Google if you weren't sure which ones are alternative sources of fuel!)"
   ]
  },
  {
   "cell_type": "code",
   "execution_count": 46,
   "id": "a75538c0",
   "metadata": {},
   "outputs": [
    {
     "data": {
      "text/plain": [
       "2"
      ]
     },
     "execution_count": 46,
     "metadata": {},
     "output_type": "execute_result"
    }
   ],
   "source": [
    "alt_08 = df_08.query('fuel in [\"CNG\", \"ethanol\"]')['model'].nunique()\n",
    "alt_08"
   ]
  },
  {
   "cell_type": "code",
   "execution_count": 47,
   "id": "780fe19f",
   "metadata": {},
   "outputs": [
    {
     "data": {
      "text/plain": [
       "26"
      ]
     },
     "execution_count": 47,
     "metadata": {},
     "output_type": "execute_result"
    }
   ],
   "source": [
    "alt_18 = df_18.query('fuel in [\"Ethanol\", \"Electricity\"]')['model'].nunique()\n",
    "alt_18"
   ]
  },
  {
   "cell_type": "code",
   "execution_count": 54,
   "id": "b57bf9b0",
   "metadata": {},
   "outputs": [
    {
     "data": {
      "image/png": "[encoded data removed]",
      "text/plain": [
       "<Figure size 432x288 with 1 Axes>"
      ]
     },
     "metadata": {},
     "output_type": "display_data"
    }
   ],
   "source": [
    "plt.bar(['2008', '2018'], [alt_08, alt_18]);\n",
    "plt.title('Number of Unique models Using alternative Fuels');\n",
    "plt.xlabel('Year');\n",
    "plt.ylabel('Number of Unique Models');"
   ]
  },
  {
   "cell_type": "markdown",
   "id": "e7bbce11",
   "metadata": {},
   "source": [
    "### Q2: How much have vehicle classes improved in fuel economy? "
   ]
  },
  {
   "cell_type": "code",
   "execution_count": 73,
   "id": "ce38b93e",
   "metadata": {},
   "outputs": [
    {
     "data": {
      "text/plain": [
       "veh_class\n",
       "SUV              18.471429\n",
       "large car        18.509091\n",
       "midsize car      21.601449\n",
       "minivan          19.117647\n",
       "pickup           16.277108\n",
       "small car        21.105105\n",
       "station wagon    22.366667\n",
       "van              14.952381\n",
       "Name: cmb_mpg, dtype: float64"
      ]
     },
     "execution_count": 73,
     "metadata": {},
     "output_type": "execute_result"
    }
   ],
   "source": [
    "veh_08 = df_08.groupby('veh_class')['cmb_mpg'].mean()\n",
    "veh_08"
   ]
  },
  {
   "cell_type": "code",
   "execution_count": 74,
   "id": "8f8903c2",
   "metadata": {},
   "outputs": [
    {
     "data": {
      "text/plain": [
       "veh_class\n",
       "large car          23.409091\n",
       "midsize car        27.884058\n",
       "minivan            20.800000\n",
       "pickup             18.589744\n",
       "small SUV          24.074074\n",
       "small car          25.421053\n",
       "special purpose    18.500000\n",
       "standard SUV       18.197674\n",
       "station wagon      27.529412\n",
       "Name: cmb_mpg, dtype: float64"
      ]
     },
     "execution_count": 74,
     "metadata": {},
     "output_type": "execute_result"
    }
   ],
   "source": [
    "veh_18 = df_18.groupby('veh_class')['cmb_mpg'].mean()\n",
    "veh_18"
   ]
  },
  {
   "cell_type": "code",
   "execution_count": 76,
   "id": "84994937",
   "metadata": {},
   "outputs": [
    {
     "data": {
      "text/plain": [
       "veh_class\n",
       "large car        26.473477\n",
       "midsize car      29.084200\n",
       "minivan           8.800000\n",
       "pickup           14.207899\n",
       "small car        20.449780\n",
       "station wagon    23.082318\n",
       "Name: cmb_mpg, dtype: float64"
      ]
     },
     "execution_count": 76,
     "metadata": {},
     "output_type": "execute_result"
    }
   ],
   "source": [
    "compare = (veh_18-veh_08)*100/veh_08\n",
    "compare.dropna(inplace=True)\n",
    "compare"
   ]
  },
  {
   "cell_type": "code",
   "execution_count": 88,
   "id": "bfe3200b",
   "metadata": {},
   "outputs": [
    {
     "data": {
      "image/png": "[encoded data removed]",
      "text/plain": [
       "<Figure size 720x360 with 1 Axes>"
      ]
     },
     "metadata": {},
     "output_type": "display_data"
    }
   ],
   "source": [
    "plt.subplots(figsize=(10,5));\n",
    "plt.bar(compare.index, compare);\n",
    "plt.title('Vehicle Class Consume Imporvement from 2008 to 2018');\n",
    "plt.xlabel('Vehicle Classes');\n",
    "plt.ylabel('Consume Improvement in %');"
   ]
  },
  {
   "cell_type": "markdown",
   "id": "7a524384",
   "metadata": {},
   "source": [
    "### Q3: What are the characteristics of SmartWay vehicles? Have they changed over time?"
   ]
  },
  {
   "cell_type": "markdown",
   "id": "f58f50ca",
   "metadata": {},
   "source": [
    "## Merging Datasets"
   ]
  },
  {
   "cell_type": "markdown",
   "id": "3df822f9",
   "metadata": {},
   "source": [
    "### Create combined dataset"
   ]
  },
  {
   "cell_type": "code",
   "execution_count": 91,
   "id": "f2286e0c",
   "metadata": {},
   "outputs": [],
   "source": [
    "# rename 2008 columns\n",
    "df_08.rename(columns=lambda x: x[:10] + '_2008', inplace=True)"
   ]
  },
  {
   "cell_type": "code",
   "execution_count": 93,
   "id": "8d26c346",
   "metadata": {},
   "outputs": [
    {
     "data": {
      "text/html": [
       "<div>\n",
       "<style scoped>\n",
       "    .dataframe tbody tr th:only-of-type {\n",
       "        vertical-align: middle;\n",
       "    }\n",
       "\n",
       "    .dataframe tbody tr th {\n",
       "        vertical-align: top;\n",
       "    }\n",
       "\n",
       "    .dataframe thead th {\n",
       "        text-align: right;\n",
       "    }\n",
       "</style>\n",
       "<table border=\"1\" class=\"dataframe\">\n",
       "  <thead>\n",
       "    <tr style=\"text-align: right;\">\n",
       "      <th></th>\n",
       "      <th>model_2008</th>\n",
       "      <th>displ_2008</th>\n",
       "      <th>cyl_2008</th>\n",
       "      <th>trans_2008</th>\n",
       "      <th>drive_2008</th>\n",
       "      <th>fuel_2008</th>\n",
       "      <th>veh_class_2008</th>\n",
       "      <th>air_pollut_2008</th>\n",
       "      <th>city_mpg_2008</th>\n",
       "      <th>hwy_mpg_2008</th>\n",
       "      <th>cmb_mpg_2008</th>\n",
       "      <th>greenhouse_2008</th>\n",
       "      <th>smartway_2008</th>\n",
       "    </tr>\n",
       "  </thead>\n",
       "  <tbody>\n",
       "    <tr>\n",
       "      <th>0</th>\n",
       "      <td>ACURA MDX</td>\n",
       "      <td>3.7</td>\n",
       "      <td>6</td>\n",
       "      <td>Auto-S5</td>\n",
       "      <td>4WD</td>\n",
       "      <td>Gasoline</td>\n",
       "      <td>SUV</td>\n",
       "      <td>7.0</td>\n",
       "      <td>15.0</td>\n",
       "      <td>20.0</td>\n",
       "      <td>17.0</td>\n",
       "      <td>4</td>\n",
       "      <td>no</td>\n",
       "    </tr>\n",
       "    <tr>\n",
       "      <th>1</th>\n",
       "      <td>ACURA RDX</td>\n",
       "      <td>2.3</td>\n",
       "      <td>4</td>\n",
       "      <td>Auto-S5</td>\n",
       "      <td>4WD</td>\n",
       "      <td>Gasoline</td>\n",
       "      <td>SUV</td>\n",
       "      <td>7.0</td>\n",
       "      <td>17.0</td>\n",
       "      <td>22.0</td>\n",
       "      <td>19.0</td>\n",
       "      <td>5</td>\n",
       "      <td>no</td>\n",
       "    </tr>\n",
       "    <tr>\n",
       "      <th>2</th>\n",
       "      <td>ACURA RL</td>\n",
       "      <td>3.5</td>\n",
       "      <td>6</td>\n",
       "      <td>Auto-S5</td>\n",
       "      <td>4WD</td>\n",
       "      <td>Gasoline</td>\n",
       "      <td>midsize car</td>\n",
       "      <td>7.0</td>\n",
       "      <td>16.0</td>\n",
       "      <td>24.0</td>\n",
       "      <td>19.0</td>\n",
       "      <td>5</td>\n",
       "      <td>no</td>\n",
       "    </tr>\n",
       "    <tr>\n",
       "      <th>3</th>\n",
       "      <td>ACURA TL</td>\n",
       "      <td>3.2</td>\n",
       "      <td>6</td>\n",
       "      <td>Auto-S5</td>\n",
       "      <td>2WD</td>\n",
       "      <td>Gasoline</td>\n",
       "      <td>midsize car</td>\n",
       "      <td>7.0</td>\n",
       "      <td>18.0</td>\n",
       "      <td>26.0</td>\n",
       "      <td>21.0</td>\n",
       "      <td>6</td>\n",
       "      <td>yes</td>\n",
       "    </tr>\n",
       "    <tr>\n",
       "      <th>4</th>\n",
       "      <td>ACURA TL</td>\n",
       "      <td>3.5</td>\n",
       "      <td>6</td>\n",
       "      <td>Auto-S5</td>\n",
       "      <td>2WD</td>\n",
       "      <td>Gasoline</td>\n",
       "      <td>midsize car</td>\n",
       "      <td>7.0</td>\n",
       "      <td>17.0</td>\n",
       "      <td>26.0</td>\n",
       "      <td>20.0</td>\n",
       "      <td>6</td>\n",
       "      <td>yes</td>\n",
       "    </tr>\n",
       "  </tbody>\n",
       "</table>\n",
       "</div>"
      ],
      "text/plain": [
       "  model_2008  displ_2008  cyl_2008 trans_2008 drive_2008 fuel_2008  \\\n",
       "0  ACURA MDX         3.7         6    Auto-S5        4WD  Gasoline   \n",
       "1  ACURA RDX         2.3         4    Auto-S5        4WD  Gasoline   \n",
       "2   ACURA RL         3.5         6    Auto-S5        4WD  Gasoline   \n",
       "3   ACURA TL         3.2         6    Auto-S5        2WD  Gasoline   \n",
       "4   ACURA TL         3.5         6    Auto-S5        2WD  Gasoline   \n",
       "\n",
       "  veh_class_2008  air_pollut_2008  city_mpg_2008  hwy_mpg_2008  cmb_mpg_2008  \\\n",
       "0            SUV              7.0           15.0          20.0          17.0   \n",
       "1            SUV              7.0           17.0          22.0          19.0   \n",
       "2    midsize car              7.0           16.0          24.0          19.0   \n",
       "3    midsize car              7.0           18.0          26.0          21.0   \n",
       "4    midsize car              7.0           17.0          26.0          20.0   \n",
       "\n",
       "   greenhouse_2008 smartway_2008  \n",
       "0                4            no  \n",
       "1                5            no  \n",
       "2                5            no  \n",
       "3                6           yes  \n",
       "4                6           yes  "
      ]
     },
     "execution_count": 93,
     "metadata": {},
     "output_type": "execute_result"
    }
   ],
   "source": [
    "# view to check names\n",
    "df_08.head()"
   ]
  },
  {
   "cell_type": "code",
   "execution_count": 94,
   "id": "93630930",
   "metadata": {},
   "outputs": [],
   "source": [
    "# merge datasets\n",
    "df_combined = df_08.merge(df_18, left_on='model_2008', right_on='model', how='inner')"
   ]
  },
  {
   "cell_type": "code",
   "execution_count": 95,
   "id": "6ee394be",
   "metadata": {},
   "outputs": [
    {
     "data": {
      "text/html": [
       "<div>\n",
       "<style scoped>\n",
       "    .dataframe tbody tr th:only-of-type {\n",
       "        vertical-align: middle;\n",
       "    }\n",
       "\n",
       "    .dataframe tbody tr th {\n",
       "        vertical-align: top;\n",
       "    }\n",
       "\n",
       "    .dataframe thead th {\n",
       "        text-align: right;\n",
       "    }\n",
       "</style>\n",
       "<table border=\"1\" class=\"dataframe\">\n",
       "  <thead>\n",
       "    <tr style=\"text-align: right;\">\n",
       "      <th></th>\n",
       "      <th>model_2008</th>\n",
       "      <th>displ_2008</th>\n",
       "      <th>cyl_2008</th>\n",
       "      <th>trans_2008</th>\n",
       "      <th>drive_2008</th>\n",
       "      <th>fuel_2008</th>\n",
       "      <th>veh_class_2008</th>\n",
       "      <th>air_pollut_2008</th>\n",
       "      <th>city_mpg_2008</th>\n",
       "      <th>hwy_mpg_2008</th>\n",
       "      <th>...</th>\n",
       "      <th>trans</th>\n",
       "      <th>drive</th>\n",
       "      <th>fuel</th>\n",
       "      <th>veh_class</th>\n",
       "      <th>air_pollution_score</th>\n",
       "      <th>city_mpg</th>\n",
       "      <th>hwy_mpg</th>\n",
       "      <th>cmb_mpg</th>\n",
       "      <th>greenhouse_gas_score</th>\n",
       "      <th>smartway</th>\n",
       "    </tr>\n",
       "  </thead>\n",
       "  <tbody>\n",
       "    <tr>\n",
       "      <th>0</th>\n",
       "      <td>ACURA RDX</td>\n",
       "      <td>2.3</td>\n",
       "      <td>4</td>\n",
       "      <td>Auto-S5</td>\n",
       "      <td>4WD</td>\n",
       "      <td>Gasoline</td>\n",
       "      <td>SUV</td>\n",
       "      <td>7.0</td>\n",
       "      <td>17.0</td>\n",
       "      <td>22.0</td>\n",
       "      <td>...</td>\n",
       "      <td>SemiAuto-6</td>\n",
       "      <td>2WD</td>\n",
       "      <td>Gasoline</td>\n",
       "      <td>small SUV</td>\n",
       "      <td>3.0</td>\n",
       "      <td>20.0</td>\n",
       "      <td>28.0</td>\n",
       "      <td>23.0</td>\n",
       "      <td>5</td>\n",
       "      <td>No</td>\n",
       "    </tr>\n",
       "    <tr>\n",
       "      <th>1</th>\n",
       "      <td>ACURA RDX</td>\n",
       "      <td>2.3</td>\n",
       "      <td>4</td>\n",
       "      <td>Auto-S5</td>\n",
       "      <td>4WD</td>\n",
       "      <td>Gasoline</td>\n",
       "      <td>SUV</td>\n",
       "      <td>7.0</td>\n",
       "      <td>17.0</td>\n",
       "      <td>22.0</td>\n",
       "      <td>...</td>\n",
       "      <td>SemiAuto-6</td>\n",
       "      <td>4WD</td>\n",
       "      <td>Gasoline</td>\n",
       "      <td>small SUV</td>\n",
       "      <td>3.0</td>\n",
       "      <td>19.0</td>\n",
       "      <td>27.0</td>\n",
       "      <td>22.0</td>\n",
       "      <td>4</td>\n",
       "      <td>No</td>\n",
       "    </tr>\n",
       "    <tr>\n",
       "      <th>2</th>\n",
       "      <td>AUDI A3</td>\n",
       "      <td>2.0</td>\n",
       "      <td>4</td>\n",
       "      <td>Man-6</td>\n",
       "      <td>2WD</td>\n",
       "      <td>Gasoline</td>\n",
       "      <td>station wagon</td>\n",
       "      <td>7.0</td>\n",
       "      <td>21.0</td>\n",
       "      <td>29.0</td>\n",
       "      <td>...</td>\n",
       "      <td>AMS-6</td>\n",
       "      <td>4WD</td>\n",
       "      <td>Gasoline</td>\n",
       "      <td>small car</td>\n",
       "      <td>7.0</td>\n",
       "      <td>24.0</td>\n",
       "      <td>31.0</td>\n",
       "      <td>27.0</td>\n",
       "      <td>6</td>\n",
       "      <td>No</td>\n",
       "    </tr>\n",
       "    <tr>\n",
       "      <th>3</th>\n",
       "      <td>AUDI A3</td>\n",
       "      <td>2.0</td>\n",
       "      <td>4</td>\n",
       "      <td>Man-6</td>\n",
       "      <td>2WD</td>\n",
       "      <td>Gasoline</td>\n",
       "      <td>station wagon</td>\n",
       "      <td>7.0</td>\n",
       "      <td>21.0</td>\n",
       "      <td>29.0</td>\n",
       "      <td>...</td>\n",
       "      <td>AMS-7</td>\n",
       "      <td>2WD</td>\n",
       "      <td>Gasoline</td>\n",
       "      <td>small car</td>\n",
       "      <td>7.0</td>\n",
       "      <td>26.0</td>\n",
       "      <td>35.0</td>\n",
       "      <td>29.0</td>\n",
       "      <td>6</td>\n",
       "      <td>No</td>\n",
       "    </tr>\n",
       "    <tr>\n",
       "      <th>4</th>\n",
       "      <td>AUDI A3</td>\n",
       "      <td>2.0</td>\n",
       "      <td>4</td>\n",
       "      <td>Auto-S6</td>\n",
       "      <td>2WD</td>\n",
       "      <td>Gasoline</td>\n",
       "      <td>station wagon</td>\n",
       "      <td>7.0</td>\n",
       "      <td>22.0</td>\n",
       "      <td>29.0</td>\n",
       "      <td>...</td>\n",
       "      <td>AMS-6</td>\n",
       "      <td>4WD</td>\n",
       "      <td>Gasoline</td>\n",
       "      <td>small car</td>\n",
       "      <td>7.0</td>\n",
       "      <td>24.0</td>\n",
       "      <td>31.0</td>\n",
       "      <td>27.0</td>\n",
       "      <td>6</td>\n",
       "      <td>No</td>\n",
       "    </tr>\n",
       "  </tbody>\n",
       "</table>\n",
       "<p>5 rows × 26 columns</p>\n",
       "</div>"
      ],
      "text/plain": [
       "  model_2008  displ_2008  cyl_2008 trans_2008 drive_2008 fuel_2008  \\\n",
       "0  ACURA RDX         2.3         4    Auto-S5        4WD  Gasoline   \n",
       "1  ACURA RDX         2.3         4    Auto-S5        4WD  Gasoline   \n",
       "2    AUDI A3         2.0         4      Man-6        2WD  Gasoline   \n",
       "3    AUDI A3         2.0         4      Man-6        2WD  Gasoline   \n",
       "4    AUDI A3         2.0         4    Auto-S6        2WD  Gasoline   \n",
       "\n",
       "  veh_class_2008  air_pollut_2008  city_mpg_2008  hwy_mpg_2008  ...  \\\n",
       "0            SUV              7.0           17.0          22.0  ...   \n",
       "1            SUV              7.0           17.0          22.0  ...   \n",
       "2  station wagon              7.0           21.0          29.0  ...   \n",
       "3  station wagon              7.0           21.0          29.0  ...   \n",
       "4  station wagon              7.0           22.0          29.0  ...   \n",
       "\n",
       "        trans  drive      fuel  veh_class  air_pollution_score  city_mpg  \\\n",
       "0  SemiAuto-6    2WD  Gasoline  small SUV                  3.0      20.0   \n",
       "1  SemiAuto-6    4WD  Gasoline  small SUV                  3.0      19.0   \n",
       "2       AMS-6    4WD  Gasoline  small car                  7.0      24.0   \n",
       "3       AMS-7    2WD  Gasoline  small car                  7.0      26.0   \n",
       "4       AMS-6    4WD  Gasoline  small car                  7.0      24.0   \n",
       "\n",
       "  hwy_mpg cmb_mpg greenhouse_gas_score smartway  \n",
       "0    28.0    23.0                    5       No  \n",
       "1    27.0    22.0                    4       No  \n",
       "2    31.0    27.0                    6       No  \n",
       "3    35.0    29.0                    6       No  \n",
       "4    31.0    27.0                    6       No  \n",
       "\n",
       "[5 rows x 26 columns]"
      ]
     },
     "execution_count": 95,
     "metadata": {},
     "output_type": "execute_result"
    }
   ],
   "source": [
    "# view to check merge\n",
    "df_combined.head()"
   ]
  },
  {
   "cell_type": "markdown",
   "id": "9ccddcd5",
   "metadata": {},
   "source": [
    "Save the combined dataset"
   ]
  },
  {
   "cell_type": "code",
   "execution_count": 96,
   "id": "6cf855dc",
   "metadata": {},
   "outputs": [],
   "source": [
    "df_combined.to_csv('combined_dataset.csv', index=False)"
   ]
  },
  {
   "cell_type": "markdown",
   "id": "d5f23078",
   "metadata": {},
   "source": [
    "# Results with Merged Dataset\n",
    "#### Q5: For all of the models that were produced in 2008 that are still being produced now, how much has the mpg improved and which vehicle improved the most?"
   ]
  },
  {
   "cell_type": "code",
   "execution_count": 98,
   "id": "3e95d9be",
   "metadata": {},
   "outputs": [],
   "source": [
    "# load dataset\n",
    "\n",
    "df = pd.read_csv('combined_dataset.csv')"
   ]
  },
  {
   "cell_type": "markdown",
   "id": "6e62d41a",
   "metadata": {},
   "source": [
    "### 1. Create a new dataframe, `model_mpg`, that contain the mean combined mpg values in 2008 and 2018 for each unique model\n",
    "\n",
    "To do this, group by `model` and find the mean `cmb_mpg_2008` and mean `cmb_mpg` for each."
   ]
  },
  {
   "cell_type": "code",
   "execution_count": 131,
   "id": "24cffe1e",
   "metadata": {},
   "outputs": [
    {
     "data": {
      "text/html": [
       "<div>\n",
       "<style scoped>\n",
       "    .dataframe tbody tr th:only-of-type {\n",
       "        vertical-align: middle;\n",
       "    }\n",
       "\n",
       "    .dataframe tbody tr th {\n",
       "        vertical-align: top;\n",
       "    }\n",
       "\n",
       "    .dataframe thead th {\n",
       "        text-align: right;\n",
       "    }\n",
       "</style>\n",
       "<table border=\"1\" class=\"dataframe\">\n",
       "  <thead>\n",
       "    <tr style=\"text-align: right;\">\n",
       "      <th></th>\n",
       "      <th>cmb_mpg_2008</th>\n",
       "      <th>cmb_mpg</th>\n",
       "    </tr>\n",
       "    <tr>\n",
       "      <th>model</th>\n",
       "      <th></th>\n",
       "      <th></th>\n",
       "    </tr>\n",
       "  </thead>\n",
       "  <tbody>\n",
       "    <tr>\n",
       "      <th>ACURA RDX</th>\n",
       "      <td>19.000000</td>\n",
       "      <td>22.500000</td>\n",
       "    </tr>\n",
       "    <tr>\n",
       "      <th>AUDI A3</th>\n",
       "      <td>23.333333</td>\n",
       "      <td>28.000000</td>\n",
       "    </tr>\n",
       "    <tr>\n",
       "      <th>AUDI A4</th>\n",
       "      <td>21.000000</td>\n",
       "      <td>27.000000</td>\n",
       "    </tr>\n",
       "    <tr>\n",
       "      <th>AUDI A6</th>\n",
       "      <td>19.666667</td>\n",
       "      <td>25.666667</td>\n",
       "    </tr>\n",
       "    <tr>\n",
       "      <th>AUDI A8 L</th>\n",
       "      <td>16.500000</td>\n",
       "      <td>22.000000</td>\n",
       "    </tr>\n",
       "  </tbody>\n",
       "</table>\n",
       "</div>"
      ],
      "text/plain": [
       "           cmb_mpg_2008    cmb_mpg\n",
       "model                             \n",
       "ACURA RDX     19.000000  22.500000\n",
       "AUDI A3       23.333333  28.000000\n",
       "AUDI A4       21.000000  27.000000\n",
       "AUDI A6       19.666667  25.666667\n",
       "AUDI A8 L     16.500000  22.000000"
      ]
     },
     "execution_count": 131,
     "metadata": {},
     "output_type": "execute_result"
    }
   ],
   "source": [
    "model_mpg = df.groupby('model')[['cmb_mpg_2008', 'cmb_mpg']].mean()\n",
    "model_mpg.head()"
   ]
  },
  {
   "cell_type": "markdown",
   "id": "32778bb3",
   "metadata": {},
   "source": [
    "### 2. Create a new column, `mpg_change`, with the change in mpg\n",
    "Subtract the mean mpg in 2008 from that in 2018 to get the change in mpg"
   ]
  },
  {
   "cell_type": "code",
   "execution_count": 133,
   "id": "1cf020f0",
   "metadata": {},
   "outputs": [],
   "source": [
    "model_mpg['mpg_change'] = model_mpg['cmb_mpg'] - model_mpg['cmb_mpg_2008']"
   ]
  },
  {
   "cell_type": "code",
   "execution_count": 134,
   "id": "c556cfc2",
   "metadata": {},
   "outputs": [
    {
     "data": {
      "text/html": [
       "<div>\n",
       "<style scoped>\n",
       "    .dataframe tbody tr th:only-of-type {\n",
       "        vertical-align: middle;\n",
       "    }\n",
       "\n",
       "    .dataframe tbody tr th {\n",
       "        vertical-align: top;\n",
       "    }\n",
       "\n",
       "    .dataframe thead th {\n",
       "        text-align: right;\n",
       "    }\n",
       "</style>\n",
       "<table border=\"1\" class=\"dataframe\">\n",
       "  <thead>\n",
       "    <tr style=\"text-align: right;\">\n",
       "      <th></th>\n",
       "      <th>cmb_mpg_2008</th>\n",
       "      <th>cmb_mpg</th>\n",
       "      <th>mpg_change</th>\n",
       "    </tr>\n",
       "    <tr>\n",
       "      <th>model</th>\n",
       "      <th></th>\n",
       "      <th></th>\n",
       "      <th></th>\n",
       "    </tr>\n",
       "  </thead>\n",
       "  <tbody>\n",
       "    <tr>\n",
       "      <th>ACURA RDX</th>\n",
       "      <td>19.000000</td>\n",
       "      <td>22.500000</td>\n",
       "      <td>3.500000</td>\n",
       "    </tr>\n",
       "    <tr>\n",
       "      <th>AUDI A3</th>\n",
       "      <td>23.333333</td>\n",
       "      <td>28.000000</td>\n",
       "      <td>4.666667</td>\n",
       "    </tr>\n",
       "    <tr>\n",
       "      <th>AUDI A4</th>\n",
       "      <td>21.000000</td>\n",
       "      <td>27.000000</td>\n",
       "      <td>6.000000</td>\n",
       "    </tr>\n",
       "    <tr>\n",
       "      <th>AUDI A6</th>\n",
       "      <td>19.666667</td>\n",
       "      <td>25.666667</td>\n",
       "      <td>6.000000</td>\n",
       "    </tr>\n",
       "    <tr>\n",
       "      <th>AUDI A8 L</th>\n",
       "      <td>16.500000</td>\n",
       "      <td>22.000000</td>\n",
       "      <td>5.500000</td>\n",
       "    </tr>\n",
       "  </tbody>\n",
       "</table>\n",
       "</div>"
      ],
      "text/plain": [
       "           cmb_mpg_2008    cmb_mpg  mpg_change\n",
       "model                                         \n",
       "ACURA RDX     19.000000  22.500000    3.500000\n",
       "AUDI A3       23.333333  28.000000    4.666667\n",
       "AUDI A4       21.000000  27.000000    6.000000\n",
       "AUDI A6       19.666667  25.666667    6.000000\n",
       "AUDI A8 L     16.500000  22.000000    5.500000"
      ]
     },
     "execution_count": 134,
     "metadata": {},
     "output_type": "execute_result"
    }
   ],
   "source": [
    "model_mpg.head()"
   ]
  },
  {
   "cell_type": "markdown",
   "id": "aaa54105",
   "metadata": {},
   "source": [
    "### 3. Find the vehicle that improved the most\n",
    "Find the max mpg change, and then use query or indexing to see what model it is!"
   ]
  },
  {
   "cell_type": "code",
   "execution_count": 135,
   "id": "446cbbad",
   "metadata": {},
   "outputs": [
    {
     "data": {
      "text/html": [
       "<div>\n",
       "<style scoped>\n",
       "    .dataframe tbody tr th:only-of-type {\n",
       "        vertical-align: middle;\n",
       "    }\n",
       "\n",
       "    .dataframe tbody tr th {\n",
       "        vertical-align: top;\n",
       "    }\n",
       "\n",
       "    .dataframe thead th {\n",
       "        text-align: right;\n",
       "    }\n",
       "</style>\n",
       "<table border=\"1\" class=\"dataframe\">\n",
       "  <thead>\n",
       "    <tr style=\"text-align: right;\">\n",
       "      <th></th>\n",
       "      <th>cmb_mpg_2008</th>\n",
       "      <th>cmb_mpg</th>\n",
       "      <th>mpg_change</th>\n",
       "    </tr>\n",
       "  </thead>\n",
       "  <tbody>\n",
       "    <tr>\n",
       "      <th>count</th>\n",
       "      <td>72.000000</td>\n",
       "      <td>72.000000</td>\n",
       "      <td>72.000000</td>\n",
       "    </tr>\n",
       "    <tr>\n",
       "      <th>mean</th>\n",
       "      <td>19.469924</td>\n",
       "      <td>23.188479</td>\n",
       "      <td>3.718555</td>\n",
       "    </tr>\n",
       "    <tr>\n",
       "      <th>std</th>\n",
       "      <td>4.298765</td>\n",
       "      <td>5.134653</td>\n",
       "      <td>2.866304</td>\n",
       "    </tr>\n",
       "    <tr>\n",
       "      <th>min</th>\n",
       "      <td>14.000000</td>\n",
       "      <td>14.500000</td>\n",
       "      <td>-1.000000</td>\n",
       "    </tr>\n",
       "    <tr>\n",
       "      <th>25%</th>\n",
       "      <td>15.916667</td>\n",
       "      <td>19.534091</td>\n",
       "      <td>1.895833</td>\n",
       "    </tr>\n",
       "    <tr>\n",
       "      <th>50%</th>\n",
       "      <td>18.800000</td>\n",
       "      <td>22.650000</td>\n",
       "      <td>3.125000</td>\n",
       "    </tr>\n",
       "    <tr>\n",
       "      <th>75%</th>\n",
       "      <td>21.687500</td>\n",
       "      <td>27.000000</td>\n",
       "      <td>4.906250</td>\n",
       "    </tr>\n",
       "    <tr>\n",
       "      <th>max</th>\n",
       "      <td>31.500000</td>\n",
       "      <td>33.333333</td>\n",
       "      <td>16.533333</td>\n",
       "    </tr>\n",
       "  </tbody>\n",
       "</table>\n",
       "</div>"
      ],
      "text/plain": [
       "       cmb_mpg_2008    cmb_mpg  mpg_change\n",
       "count     72.000000  72.000000   72.000000\n",
       "mean      19.469924  23.188479    3.718555\n",
       "std        4.298765   5.134653    2.866304\n",
       "min       14.000000  14.500000   -1.000000\n",
       "25%       15.916667  19.534091    1.895833\n",
       "50%       18.800000  22.650000    3.125000\n",
       "75%       21.687500  27.000000    4.906250\n",
       "max       31.500000  33.333333   16.533333"
      ]
     },
     "execution_count": 135,
     "metadata": {},
     "output_type": "execute_result"
    }
   ],
   "source": [
    "model_mpg.describe()"
   ]
  },
  {
   "cell_type": "code",
   "execution_count": 162,
   "id": "e9432e78",
   "metadata": {},
   "outputs": [
    {
     "data": {
      "text/html": [
       "<div>\n",
       "<style scoped>\n",
       "    .dataframe tbody tr th:only-of-type {\n",
       "        vertical-align: middle;\n",
       "    }\n",
       "\n",
       "    .dataframe tbody tr th {\n",
       "        vertical-align: top;\n",
       "    }\n",
       "\n",
       "    .dataframe thead th {\n",
       "        text-align: right;\n",
       "    }\n",
       "</style>\n",
       "<table border=\"1\" class=\"dataframe\">\n",
       "  <thead>\n",
       "    <tr style=\"text-align: right;\">\n",
       "      <th></th>\n",
       "      <th>cmb_mpg_2008</th>\n",
       "      <th>cmb_mpg</th>\n",
       "      <th>mpg_change</th>\n",
       "    </tr>\n",
       "    <tr>\n",
       "      <th>model</th>\n",
       "      <th></th>\n",
       "      <th></th>\n",
       "      <th></th>\n",
       "    </tr>\n",
       "  </thead>\n",
       "  <tbody>\n",
       "    <tr>\n",
       "      <th>VOLVO XC 90</th>\n",
       "      <td>15.666667</td>\n",
       "      <td>32.2</td>\n",
       "      <td>16.533333</td>\n",
       "    </tr>\n",
       "  </tbody>\n",
       "</table>\n",
       "</div>"
      ],
      "text/plain": [
       "             cmb_mpg_2008  cmb_mpg  mpg_change\n",
       "model                                         \n",
       "VOLVO XC 90     15.666667     32.2   16.533333"
      ]
     },
     "execution_count": 162,
     "metadata": {},
     "output_type": "execute_result"
    }
   ],
   "source": [
    "max_change = model_mpg['mpg_change'].max()\n",
    "model_mpg[model_mpg['mpg_change'] == max_change]"
   ]
  },
  {
   "cell_type": "code",
   "execution_count": null,
   "id": "b42d4b46",
   "metadata": {},
   "outputs": [],
   "source": []
  }
 ],
 "metadata": {
  "kernelspec": {
   "display_name": "Python [conda env:py3_env]",
   "language": "python",
   "name": "conda-env-py3_env-py"
  },
  "language_info": {
   "codemirror_mode": {
    "name": "ipython",
    "version": 3
   },
   "file_extension": ".py",
   "mimetype": "text/x-python",
   "name": "python",
   "nbconvert_exporter": "python",
   "pygments_lexer": "ipython3",
   "version": "3.8.11"
  }
 },
 "nbformat": 4,
 "nbformat_minor": 5
}
